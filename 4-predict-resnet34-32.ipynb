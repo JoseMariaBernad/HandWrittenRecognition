{
 "cells": [
  {
   "cell_type": "code",
   "execution_count": 1,
   "metadata": {},
   "outputs": [],
   "source": [
    "%reload_ext autoreload\n",
    "%autoreload 2\n",
    "%matplotlib inline"
   ]
  },
  {
   "cell_type": "code",
   "execution_count": 2,
   "metadata": {},
   "outputs": [],
   "source": [
    "from fastai import *\n",
    "from fastai.vision import *\n",
    "from common import load_classes\n",
    "#path = Path(Config.get_key('data_path')).expanduser()/'handwritten'\n",
    "path = Path('.')\n",
    "#bs = 4096\n",
    "#tfms = get_transforms(do_flip=False)\n",
    "#data = ImageDataBunch.from_folder(path, train='Train', valid='Validation', ds_tfms=tfms, size=32, bs=bs)\n",
    "#learn = create_cnn(data, models.resnet34, metrics=error_rate)"
   ]
  },
  {
   "cell_type": "code",
   "execution_count": 3,
   "metadata": {},
   "outputs": [],
   "source": [
    "model_name = 'stage-1-resnet34-32px-spanish'\n",
    "classes = load_classes(model_name)\n",
    "SIZE = 32"
   ]
  },
  {
   "cell_type": "code",
   "execution_count": 4,
   "metadata": {},
   "outputs": [],
   "source": [
    "#empty_data = ImageDataBunch.single_from_classes(path, classes, tfms=get_transforms()).normalize(imagenet_stats)\n",
    "empty_data = ImageDataBunch.single_from_classes(path, classes, tfms=get_transforms())\n",
    "learn = create_cnn(empty_data, models.resnet34)\n",
    "# The model was created as DataParallel, therefore we need to load it as DataParallel for inference.\n",
    "#learn.model = torch.nn.DataParallel(learn.model)"
   ]
  },
  {
   "cell_type": "code",
   "execution_count": 5,
   "metadata": {},
   "outputs": [],
   "source": [
    "#learn.path = Path('.')\n",
    "learn.load(model_name)"
   ]
  },
  {
   "cell_type": "code",
   "execution_count": 6,
   "metadata": {},
   "outputs": [],
   "source": [
    "#! wget http://yourstorage.blob.core.windows.net/ficheros/e.png"
   ]
  },
  {
   "cell_type": "code",
   "execution_count": 7,
   "metadata": {},
   "outputs": [
    {
     "data": {
      "image/png": "[encoded data removed]",
      "text/plain": [
       "<Figure size 216x216 with 1 Axes>"
      ]
     },
     "metadata": {
      "needs_background": "light"
     },
     "output_type": "display_data"
    }
   ],
   "source": [
    "img = open_image(\"test/e.png\")\n",
    "img.show()"
   ]
  },
  {
   "cell_type": "code",
   "execution_count": 8,
   "metadata": {},
   "outputs": [
    {
     "data": {
      "text/plain": [
       "('D',\n",
       " tensor(12),\n",
       " tensor([5.5201e-01, 2.1329e-02, 9.4216e+03, 1.1514e+01, 3.1106e-03, 1.0256e-01,\n",
       "         1.5801e-06, 4.3111e+00, 9.0234e-03, 6.9215e-01, 9.3093e+01, 3.4635e-02,\n",
       "         1.8191e+06, 5.9600e-02, 9.7298e+02, 3.8090e+01, 1.4161e+00, 7.8456e+02,\n",
       "         7.4905e-02, 1.4404e-04]))"
      ]
     },
     "execution_count": 8,
     "metadata": {},
     "output_type": "execute_result"
    }
   ],
   "source": [
    "learn.predict(img)"
   ]
  },
  {
   "cell_type": "code",
   "execution_count": 9,
   "metadata": {},
   "outputs": [
    {
     "data": {
      "text/plain": [
       "<matplotlib.image.AxesImage at 0x7fe3ecc732e8>"
      ]
     },
     "execution_count": 9,
     "metadata": {},
     "output_type": "execute_result"
    },
    {
     "data": {
      "image/png": "[encoded data removed]",
      "text/plain": [
       "<Figure size 432x288 with 1 Axes>"
      ]
     },
     "metadata": {
      "needs_background": "light"
     },
     "output_type": "display_data"
    }
   ],
   "source": [
    "import cv2\n",
    "import numpy as np\n",
    "import matplotlib.pyplot as plt\n",
    "\n",
    "img = cv2.imread('test/e.png')\n",
    "img = cv2.bitwise_not(img)\n",
    "img = cv2.cvtColor(img, cv2.COLOR_BGR2RGB)\n",
    "\n",
    "\n",
    "plt.imshow(img)"
   ]
  },
  {
   "cell_type": "code",
   "execution_count": 10,
   "metadata": {},
   "outputs": [
    {
     "data": {
      "text/plain": [
       "True"
      ]
     },
     "execution_count": 10,
     "metadata": {},
     "output_type": "execute_result"
    }
   ],
   "source": [
    "cv2.imwrite('einvert.png',img)"
   ]
  },
  {
   "cell_type": "code",
   "execution_count": 11,
   "metadata": {},
   "outputs": [
    {
     "data": {
      "image/png": "[encoded data removed]",
      "text/plain": [
       "<Figure size 216x216 with 1 Axes>"
      ]
     },
     "metadata": {
      "needs_background": "light"
     },
     "output_type": "display_data"
    }
   ],
   "source": [
    "img = open_image(\"einvert.png\")\n",
    "img.show()"
   ]
  },
  {
   "cell_type": "code",
   "execution_count": 12,
   "metadata": {},
   "outputs": [
    {
     "data": {
      "text/plain": [
       "('D',\n",
       " tensor(12),\n",
       " tensor([1.1848e-01, 2.8870e-04, 6.1299e+03, 8.4813e+00, 6.6828e-04, 1.8147e-02,\n",
       "         6.7344e-06, 2.8963e+04, 2.7185e-05, 1.8251e+00, 1.1620e+01, 3.1309e-03,\n",
       "         2.6035e+08, 2.6719e-04, 1.0959e+01, 1.6081e+02, 3.3996e+00, 2.8599e+04,\n",
       "         1.3284e-01, 1.2430e-06]))"
      ]
     },
     "execution_count": 12,
     "metadata": {},
     "output_type": "execute_result"
    }
   ],
   "source": [
    "learn.predict(img)"
   ]
  },
  {
   "cell_type": "code",
   "execution_count": 13,
   "metadata": {},
   "outputs": [
    {
     "data": {
      "text/plain": [
       "torch.Size([3, 59, 61])"
      ]
     },
     "execution_count": 13,
     "metadata": {},
     "output_type": "execute_result"
    }
   ],
   "source": [
    "img.shape"
   ]
  },
  {
   "cell_type": "code",
   "execution_count": 14,
   "metadata": {},
   "outputs": [
    {
     "data": {
      "text/plain": [
       "<matplotlib.image.AxesImage at 0x7fe3ecba9828>"
      ]
     },
     "execution_count": 14,
     "metadata": {},
     "output_type": "execute_result"
    },
    {
     "data": {
      "image/png": "[encoded data removed]",
      "text/plain": [
       "<Figure size 432x288 with 1 Axes>"
      ]
     },
     "metadata": {
      "needs_background": "light"
     },
     "output_type": "display_data"
    }
   ],
   "source": [
    "img = cv2.imread('einvert.png')\n",
    "img = cv2.resize(img, (SIZE,SIZE))\n",
    "plt.imshow(img)"
   ]
  },
  {
   "cell_type": "code",
   "execution_count": 15,
   "metadata": {},
   "outputs": [
    {
     "data": {
      "text/plain": [
       "True"
      ]
     },
     "execution_count": 15,
     "metadata": {},
     "output_type": "execute_result"
    }
   ],
   "source": [
    "cv2.imwrite('einvert32x32.png',img)"
   ]
  },
  {
   "cell_type": "code",
   "execution_count": 16,
   "metadata": {},
   "outputs": [
    {
     "data": {
      "text/plain": [
       "('2',\n",
       " tensor(2),\n",
       " tensor([2.5137e+00, 6.1305e-02, 6.5328e+01, 1.3063e-01, 2.9516e-02, 2.5112e+00,\n",
       "         3.1327e+00, 9.4019e-02, 1.8977e+00, 7.5809e+00, 9.1713e-02, 1.3599e+01,\n",
       "         5.2055e+00, 8.5155e+00, 4.1609e-01, 9.7835e-01, 1.5736e-01, 1.0458e+00,\n",
       "         2.0909e-01, 2.5385e-01]))"
      ]
     },
     "execution_count": 16,
     "metadata": {},
     "output_type": "execute_result"
    }
   ],
   "source": [
    "img = open_image(\"einvert32x32.png\")\n",
    "learn.predict(img)"
   ]
  },
  {
   "cell_type": "code",
   "execution_count": 17,
   "metadata": {},
   "outputs": [],
   "source": [
    "#! rm 4.png*\n",
    "#! wget http://yourstorage.blob.core.windows.net/ficheros/4.png"
   ]
  },
  {
   "cell_type": "code",
   "execution_count": 18,
   "metadata": {},
   "outputs": [
    {
     "data": {
      "image/png": "[encoded data removed]",
      "text/plain": [
       "<Figure size 216x216 with 1 Axes>"
      ]
     },
     "metadata": {
      "needs_background": "light"
     },
     "output_type": "display_data"
    }
   ],
   "source": [
    "img = open_image(\"test/4.png\")\n",
    "img.show()"
   ]
  },
  {
   "cell_type": "code",
   "execution_count": 19,
   "metadata": {},
   "outputs": [
    {
     "data": {
      "text/plain": [
       "('F',\n",
       " tensor(14),\n",
       " tensor([2.1011e-01, 4.1384e-02, 2.3089e+00, 1.2302e+02, 1.0513e-02, 2.7808e+01,\n",
       "         1.9228e-03, 5.8071e-03, 6.8239e-01, 6.4037e-02, 1.0033e+02, 2.5874e-01,\n",
       "         2.1245e+01, 5.6812e+01, 7.2213e+02, 2.1528e+00, 4.7103e-02, 3.5439e+00,\n",
       "         1.0932e+01, 1.4044e-02]))"
      ]
     },
     "execution_count": 19,
     "metadata": {},
     "output_type": "execute_result"
    }
   ],
   "source": [
    "learn.predict(img)"
   ]
  },
  {
   "cell_type": "code",
   "execution_count": 20,
   "metadata": {},
   "outputs": [
    {
     "data": {
      "text/plain": [
       "<matplotlib.image.AxesImage at 0x7fe3ecae20f0>"
      ]
     },
     "execution_count": 20,
     "metadata": {},
     "output_type": "execute_result"
    },
    {
     "data": {
      "image/png": "[encoded data removed]",
      "text/plain": [
       "<Figure size 432x288 with 1 Axes>"
      ]
     },
     "metadata": {
      "needs_background": "light"
     },
     "output_type": "display_data"
    }
   ],
   "source": [
    "import cv2\n",
    "import numpy as np\n",
    "import matplotlib.pyplot as plt\n",
    "\n",
    "img = cv2.imread('test/4.png')\n",
    "img = cv2.bitwise_not(img)\n",
    "img = cv2.cvtColor(img, cv2.COLOR_BGR2RGB)\n",
    "\n",
    "\n",
    "plt.imshow(img)"
   ]
  },
  {
   "cell_type": "code",
   "execution_count": 21,
   "metadata": {},
   "outputs": [
    {
     "data": {
      "text/plain": [
       "True"
      ]
     },
     "execution_count": 21,
     "metadata": {},
     "output_type": "execute_result"
    }
   ],
   "source": [
    "cv2.imwrite('4invert.png',img)"
   ]
  },
  {
   "cell_type": "code",
   "execution_count": 22,
   "metadata": {},
   "outputs": [
    {
     "data": {
      "image/png": "[encoded data removed]",
      "text/plain": [
       "<Figure size 216x216 with 1 Axes>"
      ]
     },
     "metadata": {
      "needs_background": "light"
     },
     "output_type": "display_data"
    }
   ],
   "source": [
    "img = open_image(\"4invert.png\")\n",
    "img.show()"
   ]
  },
  {
   "cell_type": "code",
   "execution_count": 23,
   "metadata": {},
   "outputs": [
    {
     "data": {
      "text/plain": [
       "('F',\n",
       " tensor(14),\n",
       " tensor([7.0940e-06, 9.4966e-05, 8.2000e+04, 1.1193e+03, 2.0892e-04, 8.4569e-01,\n",
       "         1.7619e-04, 8.5326e-03, 4.6006e+00, 2.3831e+00, 3.9907e+03, 5.0363e-06,\n",
       "         3.0336e+04, 6.1601e+01, 1.0174e+05, 3.7526e+04, 1.6884e-04, 4.1599e+04,\n",
       "         1.9374e-01, 8.1138e-06]))"
      ]
     },
     "execution_count": 23,
     "metadata": {},
     "output_type": "execute_result"
    }
   ],
   "source": [
    "learn.predict(img)"
   ]
  },
  {
   "cell_type": "code",
   "execution_count": 24,
   "metadata": {},
   "outputs": [
    {
     "data": {
      "text/plain": [
       "torch.Size([3, 68, 58])"
      ]
     },
     "execution_count": 24,
     "metadata": {},
     "output_type": "execute_result"
    }
   ],
   "source": [
    "img.shape"
   ]
  },
  {
   "cell_type": "code",
   "execution_count": 25,
   "metadata": {},
   "outputs": [
    {
     "data": {
      "text/plain": [
       "<matplotlib.image.AxesImage at 0x7fe3eca06e10>"
      ]
     },
     "execution_count": 25,
     "metadata": {},
     "output_type": "execute_result"
    },
    {
     "data": {
      "image/png": "[encoded data removed]",
      "text/plain": [
       "<Figure size 432x288 with 1 Axes>"
      ]
     },
     "metadata": {
      "needs_background": "light"
     },
     "output_type": "display_data"
    }
   ],
   "source": [
    "img = cv2.imread('4invert.png')\n",
    "img = cv2.resize(img, (SIZE,SIZE))\n",
    "plt.imshow(img)"
   ]
  },
  {
   "cell_type": "code",
   "execution_count": 26,
   "metadata": {},
   "outputs": [
    {
     "data": {
      "text/plain": [
       "True"
      ]
     },
     "execution_count": 26,
     "metadata": {},
     "output_type": "execute_result"
    }
   ],
   "source": [
    "cv2.imwrite('4invert32x32.png',img)"
   ]
  },
  {
   "cell_type": "code",
   "execution_count": 27,
   "metadata": {},
   "outputs": [
    {
     "data": {
      "text/plain": [
       "('7',\n",
       " tensor(7),\n",
       " tensor([2.3332e-01, 4.4019e+01, 9.2791e-01, 3.5448e-01, 4.4030e+03, 6.3119e-01,\n",
       "         2.0687e+00, 5.8966e+03, 6.0531e-01, 1.6186e-01, 1.2192e-01, 1.7629e-01,\n",
       "         1.2003e-01, 5.2793e-02, 6.4304e-02, 7.3018e-01, 1.9206e+00, 4.9106e-02,\n",
       "         1.0149e+01, 3.0105e+00]))"
      ]
     },
     "execution_count": 27,
     "metadata": {},
     "output_type": "execute_result"
    }
   ],
   "source": [
    "img = open_image(\"4invert32x32.png\")\n",
    "learn.predict(img)"
   ]
  },
  {
   "cell_type": "code",
   "execution_count": 28,
   "metadata": {},
   "outputs": [],
   "source": [
    "import cv2\n",
    "import numpy as np\n",
    "import matplotlib.pyplot as plt\n",
    "\n",
    "def predict(image_path):\n",
    "    img = cv2.imread(image_path)\n",
    "    #img = cv2.bitwise_not(img)\n",
    "    #img = cv2.cvtColor(img, cv2.COLOR_BGR2RGB)\n",
    "    #plt.imshow(img)\n",
    "    #cv2.imwrite('invert.png',img)\n",
    "    #img = open_image(\"invert.png\")\n",
    "    #img.show()\n",
    "    #img = cv2.imread('invert.png')\n",
    "    img = cv2.resize(img, (SIZE,SIZE))\n",
    "    plt.imshow(img)\n",
    "    cv2.imwrite('predict.png',img)\n",
    "    img = open_image(\"predict.png\")\n",
    "    return learn.predict(img)"
   ]
  },
  {
   "cell_type": "code",
   "execution_count": 29,
   "metadata": {},
   "outputs": [
    {
     "data": {
      "text/plain": [
       "('7',\n",
       " tensor(7),\n",
       " tensor([5.2683e-02, 5.3636e+01, 1.4617e+00, 4.5648e-01, 3.5443e+02, 2.7819e-01,\n",
       "         8.3093e-01, 4.0389e+03, 1.9977e+00, 1.2861e-01, 1.0191e-01, 2.1505e-01,\n",
       "         4.0860e-01, 6.1147e-02, 1.9889e-01, 2.3402e+00, 1.8292e+00, 3.1357e-01,\n",
       "         7.3375e+00, 5.4529e-01]))"
      ]
     },
     "execution_count": 29,
     "metadata": {},
     "output_type": "execute_result"
    },
    {
     "data": {
      "image/png": "[encoded data removed]",
      "text/plain": [
       "<Figure size 432x288 with 1 Axes>"
      ]
     },
     "metadata": {
      "needs_background": "light"
     },
     "output_type": "display_data"
    }
   ],
   "source": [
    "predict('test/4.png')"
   ]
  },
  {
   "cell_type": "code",
   "execution_count": 30,
   "metadata": {},
   "outputs": [
    {
     "data": {
      "text/plain": [
       "('E',\n",
       " tensor(13),\n",
       " tensor([4.9050e+00, 4.8287e-02, 4.0108e-01, 1.6374e-02, 2.2745e-01, 4.8017e-01,\n",
       "         2.9767e+00, 2.8728e-02, 8.5575e+00, 7.3323e-01, 5.3786e-01, 6.6568e+01,\n",
       "         2.4030e-01, 6.3038e+02, 2.1532e+00, 9.2409e-01, 1.9510e-01, 2.0801e+01,\n",
       "         3.2636e+00, 2.3220e+00]))"
      ]
     },
     "execution_count": 30,
     "metadata": {},
     "output_type": "execute_result"
    },
    {
     "data": {
      "image/png": "[encoded data removed]",
      "text/plain": [
       "<Figure size 432x288 with 1 Axes>"
      ]
     },
     "metadata": {
      "needs_background": "light"
     },
     "output_type": "display_data"
    }
   ],
   "source": [
    "predict('test/e.png')"
   ]
  },
  {
   "cell_type": "code",
   "execution_count": 31,
   "metadata": {},
   "outputs": [
    {
     "data": {
      "text/plain": [
       "('2',\n",
       " tensor(2),\n",
       " tensor([5.2652e-01, 1.3539e+01, 7.2167e+02, 7.7805e+00, 2.9429e+00, 1.6932e-02,\n",
       "         1.6608e-01, 6.1538e+00, 1.9407e+00, 1.7366e+01, 3.6567e-01, 1.1492e-01,\n",
       "         4.1599e+00, 6.5640e-01, 2.9816e-02, 7.8002e-01, 1.0141e+00, 1.0999e-01,\n",
       "         1.1760e+00, 6.6421e-01]))"
      ]
     },
     "execution_count": 31,
     "metadata": {},
     "output_type": "execute_result"
    },
    {
     "data": {
      "image/png": "[encoded data removed]",
      "text/plain": [
       "<Figure size 432x288 with 1 Axes>"
      ]
     },
     "metadata": {
      "needs_background": "light"
     },
     "output_type": "display_data"
    }
   ],
   "source": [
    "predict('test/3-underline.png')"
   ]
  },
  {
   "cell_type": "code",
   "execution_count": 32,
   "metadata": {},
   "outputs": [
    {
     "data": {
      "text/plain": [
       "('8',\n",
       " tensor(8),\n",
       " tensor([4.8502, 0.3319, 3.8541, 0.2259, 0.1465, 0.4519, 0.1322, 1.7923, 6.7969,\n",
       "         4.5815, 0.8251, 1.0393, 4.8569, 3.8531, 2.1491, 1.4580, 0.9581, 1.2876,\n",
       "         0.3833, 1.6307]))"
      ]
     },
     "execution_count": 32,
     "metadata": {},
     "output_type": "execute_result"
    },
    {
     "data": {
      "image/png": "[encoded data removed]",
      "text/plain": [
       "<Figure size 432x288 with 1 Axes>"
      ]
     },
     "metadata": {
      "needs_background": "light"
     },
     "output_type": "display_data"
    }
   ],
   "source": [
    "predict('test/4-upper-underline.png')"
   ]
  },
  {
   "cell_type": "code",
   "execution_count": 33,
   "metadata": {},
   "outputs": [
    {
     "data": {
      "text/plain": [
       "('A',\n",
       " tensor(9),\n",
       " tensor([2.2530e-01, 1.0284e+00, 3.9025e+00, 6.1608e-02, 3.0405e-02, 1.9139e-01,\n",
       "         3.2204e-02, 1.7716e+01, 2.2491e-01, 5.3234e+01, 1.4294e-01, 9.0470e-01,\n",
       "         4.3707e+00, 3.6052e+00, 2.1730e+01, 4.5658e-01, 8.8741e+00, 2.2236e+00,\n",
       "         1.5788e+01, 6.6013e+00]))"
      ]
     },
     "execution_count": 33,
     "metadata": {},
     "output_type": "execute_result"
    },
    {
     "data": {
      "image/png": "[encoded data removed]",
      "text/plain": [
       "<Figure size 432x288 with 1 Axes>"
      ]
     },
     "metadata": {
      "needs_background": "light"
     },
     "output_type": "display_data"
    }
   ],
   "source": [
    "predict('test/6-upper-underline.png')"
   ]
  },
  {
   "cell_type": "code",
   "execution_count": 34,
   "metadata": {},
   "outputs": [
    {
     "data": {
      "text/plain": [
       "('7',\n",
       " tensor(7),\n",
       " tensor([2.0253e-01, 8.6512e+00, 5.1794e+01, 5.7664e+00, 3.4152e-01, 4.8640e-02,\n",
       "         1.7029e-02, 1.4162e+03, 1.8520e-01, 1.3573e+00, 2.1910e-01, 4.3344e-01,\n",
       "         4.4110e-02, 1.3326e+01, 2.9180e+01, 2.2761e+00, 4.5925e-01, 3.0155e-01,\n",
       "         4.5894e+00, 1.0326e-01]))"
      ]
     },
     "execution_count": 34,
     "metadata": {},
     "output_type": "execute_result"
    },
    {
     "data": {
      "image/png": "[encoded data removed]",
      "text/plain": [
       "<Figure size 432x288 with 1 Axes>"
      ]
     },
     "metadata": {
      "needs_background": "light"
     },
     "output_type": "display_data"
    }
   ],
   "source": [
    "predict('test/7-underline.png')"
   ]
  },
  {
   "cell_type": "code",
   "execution_count": 35,
   "metadata": {},
   "outputs": [
    {
     "data": {
      "text/plain": [
       "('A',\n",
       " tensor(9),\n",
       " tensor([1.0942e+00, 6.5275e-01, 7.2065e-01, 1.6312e-02, 6.9909e+01, 3.7779e-03,\n",
       "         3.8339e-02, 2.2949e-01, 3.0106e-01, 1.1052e+05, 2.5728e+00, 2.4560e-01,\n",
       "         6.3209e+01, 3.5787e-01, 2.2977e-01, 1.8626e+01, 2.3831e+01, 3.8472e-01,\n",
       "         2.6618e-01, 8.5607e-01]))"
      ]
     },
     "execution_count": 35,
     "metadata": {},
     "output_type": "execute_result"
    },
    {
     "data": {
      "image/png": "[encoded data removed]",
      "text/plain": [
       "<Figure size 432x288 with 1 Axes>"
      ]
     },
     "metadata": {
      "needs_background": "light"
     },
     "output_type": "display_data"
    }
   ],
   "source": [
    "predict('test/a-underline.png')"
   ]
  },
  {
   "cell_type": "code",
   "execution_count": 36,
   "metadata": {},
   "outputs": [
    {
     "data": {
      "text/plain": [
       "('C',\n",
       " tensor(11),\n",
       " tensor([ 4.9758,  0.8567,  3.2488,  0.0873,  0.1607,  0.3824,  0.2904,  0.3673,\n",
       "          1.0128,  2.4095,  0.1621, 73.8645,  9.9067, 24.5318, 19.0535,  2.7507,\n",
       "          0.3105,  1.0831,  1.2158,  0.3261]))"
      ]
     },
     "execution_count": 36,
     "metadata": {},
     "output_type": "execute_result"
    },
    {
     "data": {
      "image/png": "[encoded data removed]",
      "text/plain": [
       "<Figure size 432x288 with 1 Axes>"
      ]
     },
     "metadata": {
      "needs_background": "light"
     },
     "output_type": "display_data"
    }
   ],
   "source": [
    "predict('test/c-underline.png')"
   ]
  },
  {
   "cell_type": "code",
   "execution_count": 37,
   "metadata": {},
   "outputs": [
    {
     "data": {
      "text/plain": [
       "('T',\n",
       " tensor(18),\n",
       " tensor([3.5209e-01, 2.0272e+01, 1.4380e+01, 3.2300e-01, 3.6293e+01, 3.4819e-02,\n",
       "         4.5693e-02, 6.8592e+01, 4.9699e-01, 7.3874e-01, 5.9648e-02, 1.6626e-01,\n",
       "         5.2058e-01, 2.5199e+00, 2.9028e+01, 1.5480e-01, 1.2070e+01, 9.4514e-02,\n",
       "         1.5824e+02, 1.0595e+01]))"
      ]
     },
     "execution_count": 37,
     "metadata": {},
     "output_type": "execute_result"
    },
    {
     "data": {
      "image/png": "[encoded data removed]",
      "text/plain": [
       "<Figure size 432x288 with 1 Axes>"
      ]
     },
     "metadata": {
      "needs_background": "light"
     },
     "output_type": "display_data"
    }
   ],
   "source": [
    "predict('test/f-underline.png')"
   ]
  },
  {
   "cell_type": "code",
   "execution_count": 38,
   "metadata": {},
   "outputs": [
    {
     "data": {
      "text/plain": [
       "('E',\n",
       " tensor(13),\n",
       " tensor([ 0.9458,  1.5326,  4.4578,  0.0592, 14.5441,  0.3963,  0.0754, 11.5863,\n",
       "          0.3169,  9.8369,  0.0354,  1.5348,  4.8709, 25.5511,  2.6951,  0.8439,\n",
       "          8.9734,  0.0658, 19.4106,  0.7897]))"
      ]
     },
     "execution_count": 38,
     "metadata": {},
     "output_type": "execute_result"
    },
    {
     "data": {
      "image/png": "[encoded data removed]",
      "text/plain": [
       "<Figure size 432x288 with 1 Axes>"
      ]
     },
     "metadata": {
      "needs_background": "light"
     },
     "output_type": "display_data"
    }
   ],
   "source": [
    "predict('test/g-underline-2.png')"
   ]
  },
  {
   "cell_type": "code",
   "execution_count": 39,
   "metadata": {},
   "outputs": [
    {
     "data": {
      "text/plain": [
       "('F',\n",
       " tensor(14),\n",
       " tensor([2.3013e+00, 4.7571e-02, 1.4277e+00, 1.3397e-01, 1.0507e+00, 1.0269e-01,\n",
       "         1.7410e-01, 3.2050e+00, 1.0928e+01, 2.1429e+01, 7.3701e+00, 1.2693e-01,\n",
       "         1.3008e+00, 6.3443e+00, 2.3086e+01, 6.7705e+00, 4.9053e+00, 3.4685e+00,\n",
       "         3.2716e+00, 2.1468e-02]))"
      ]
     },
     "execution_count": 39,
     "metadata": {},
     "output_type": "execute_result"
    },
    {
     "data": {
      "image/png": "[encoded data removed]",
      "text/plain": [
       "<Figure size 432x288 with 1 Axes>"
      ]
     },
     "metadata": {
      "needs_background": "light"
     },
     "output_type": "display_data"
    }
   ],
   "source": [
    "predict('test/g-underline.png')"
   ]
  },
  {
   "cell_type": "code",
   "execution_count": null,
   "metadata": {},
   "outputs": [],
   "source": []
  }
 ],
 "metadata": {
  "kernelspec": {
   "display_name": "Python 3.6 - AzureML",
   "language": "python",
   "name": "python3-azureml"
  },
  "language_info": {
   "codemirror_mode": {
    "name": "ipython",
    "version": 3
   },
   "file_extension": ".py",
   "mimetype": "text/x-python",
   "name": "python",
   "nbconvert_exporter": "python",
   "pygments_lexer": "ipython3",
   "version": "3.6.6"
  }
 },
 "nbformat": 4,
 "nbformat_minor": 2
}
