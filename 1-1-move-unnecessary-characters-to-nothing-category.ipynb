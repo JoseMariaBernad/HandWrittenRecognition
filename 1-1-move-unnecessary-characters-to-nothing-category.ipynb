{
 "cells": [
  {
   "cell_type": "code",
   "execution_count": 1,
   "metadata": {},
   "outputs": [],
   "source": [
    "%reload_ext autoreload\n",
    "%autoreload 2\n",
    "%matplotlib inline\n",
    "\n",
    "from fastai import *\n",
    "from fastai.vision import *\n",
    "from common import path\n",
    "from common import permanent_path\n"
   ]
  },
  {
   "cell_type": "code",
   "execution_count": 2,
   "metadata": {},
   "outputs": [
    {
     "data": {
      "text/plain": [
       "[PosixPath('/tmp/ramdisk/handwritten/Validation'),\n",
       " PosixPath('/tmp/ramdisk/handwritten/Train')]"
      ]
     },
     "execution_count": 2,
     "metadata": {},
     "output_type": "execute_result"
    }
   ],
   "source": [
    "path.ls()"
   ]
  },
  {
   "cell_type": "code",
   "execution_count": 3,
   "metadata": {},
   "outputs": [
    {
     "data": {
      "text/plain": [
       "[PosixPath('/tmp/ramdisk/handwritten/Train/Z'),\n",
       " PosixPath('/tmp/ramdisk/handwritten/Train/Y'),\n",
       " PosixPath('/tmp/ramdisk/handwritten/Train/X'),\n",
       " PosixPath('/tmp/ramdisk/handwritten/Train/W'),\n",
       " PosixPath('/tmp/ramdisk/handwritten/Train/V'),\n",
       " PosixPath('/tmp/ramdisk/handwritten/Train/U'),\n",
       " PosixPath('/tmp/ramdisk/handwritten/Train/T'),\n",
       " PosixPath('/tmp/ramdisk/handwritten/Train/S'),\n",
       " PosixPath('/tmp/ramdisk/handwritten/Train/R'),\n",
       " PosixPath('/tmp/ramdisk/handwritten/Train/Q'),\n",
       " PosixPath('/tmp/ramdisk/handwritten/Train/P'),\n",
       " PosixPath('/tmp/ramdisk/handwritten/Train/N'),\n",
       " PosixPath('/tmp/ramdisk/handwritten/Train/M'),\n",
       " PosixPath('/tmp/ramdisk/handwritten/Train/L'),\n",
       " PosixPath('/tmp/ramdisk/handwritten/Train/K'),\n",
       " PosixPath('/tmp/ramdisk/handwritten/Train/J'),\n",
       " PosixPath('/tmp/ramdisk/handwritten/Train/I'),\n",
       " PosixPath('/tmp/ramdisk/handwritten/Train/H'),\n",
       " PosixPath('/tmp/ramdisk/handwritten/Train/G'),\n",
       " PosixPath('/tmp/ramdisk/handwritten/Train/F'),\n",
       " PosixPath('/tmp/ramdisk/handwritten/Train/E'),\n",
       " PosixPath('/tmp/ramdisk/handwritten/Train/D'),\n",
       " PosixPath('/tmp/ramdisk/handwritten/Train/C'),\n",
       " PosixPath('/tmp/ramdisk/handwritten/Train/B'),\n",
       " PosixPath('/tmp/ramdisk/handwritten/Train/A'),\n",
       " PosixPath('/tmp/ramdisk/handwritten/Train/@'),\n",
       " PosixPath('/tmp/ramdisk/handwritten/Train/9'),\n",
       " PosixPath('/tmp/ramdisk/handwritten/Train/8'),\n",
       " PosixPath('/tmp/ramdisk/handwritten/Train/7'),\n",
       " PosixPath('/tmp/ramdisk/handwritten/Train/6'),\n",
       " PosixPath('/tmp/ramdisk/handwritten/Train/5'),\n",
       " PosixPath('/tmp/ramdisk/handwritten/Train/4'),\n",
       " PosixPath('/tmp/ramdisk/handwritten/Train/3'),\n",
       " PosixPath('/tmp/ramdisk/handwritten/Train/2'),\n",
       " PosixPath('/tmp/ramdisk/handwritten/Train/1'),\n",
       " PosixPath('/tmp/ramdisk/handwritten/Train/0'),\n",
       " PosixPath('/tmp/ramdisk/handwritten/Train/&'),\n",
       " PosixPath('/tmp/ramdisk/handwritten/Train/$'),\n",
       " PosixPath('/tmp/ramdisk/handwritten/Train/#')]"
      ]
     },
     "execution_count": 3,
     "metadata": {},
     "output_type": "execute_result"
    }
   ],
   "source": [
    "path_train = path/'Train'\n",
    "path_train.ls()"
   ]
  },
  {
   "cell_type": "code",
   "execution_count": 4,
   "metadata": {},
   "outputs": [
    {
     "data": {
      "text/plain": [
       "[PosixPath('/tmp/ramdisk/handwritten/Train/NOTHING/___4_7767080.png'),\n",
       " PosixPath('/tmp/ramdisk/handwritten/Train/NOTHING/___4_3480720.png'),\n",
       " PosixPath('/tmp/ramdisk/handwritten/Train/NOTHING/___3_3419739.png'),\n",
       " PosixPath('/tmp/ramdisk/handwritten/Train/NOTHING/___3_2220935.png'),\n",
       " PosixPath('/tmp/ramdisk/handwritten/Train/NOTHING/___2_7171966.png'),\n",
       " PosixPath('/tmp/ramdisk/handwritten/Train/NOTHING/___2_180518.png'),\n",
       " PosixPath('/tmp/ramdisk/handwritten/Train/NOTHING/___1_8467948.png'),\n",
       " PosixPath('/tmp/ramdisk/handwritten/Train/NOTHING/___1_3707877.png'),\n",
       " PosixPath('/tmp/ramdisk/handwritten/Train/NOTHING/___0_3481265.png'),\n",
       " PosixPath('/tmp/ramdisk/handwritten/Train/NOTHING/___0_2818202.png'),\n",
       " PosixPath('/tmp/ramdisk/handwritten/Train/NOTHING/__8_989709.png'),\n",
       " PosixPath('/tmp/ramdisk/handwritten/Train/NOTHING/__8_965683.png'),\n",
       " PosixPath('/tmp/ramdisk/handwritten/Train/NOTHING/__8_9511102.png'),\n",
       " PosixPath('/tmp/ramdisk/handwritten/Train/NOTHING/__8_9460832.png'),\n",
       " PosixPath('/tmp/ramdisk/handwritten/Train/NOTHING/__8_9451733.png'),\n",
       " PosixPath('/tmp/ramdisk/handwritten/Train/NOTHING/__8_9427814.png'),\n",
       " PosixPath('/tmp/ramdisk/handwritten/Train/NOTHING/__8_9422586.png'),\n",
       " PosixPath('/tmp/ramdisk/handwritten/Train/NOTHING/__8_9390837.png'),\n",
       " PosixPath('/tmp/ramdisk/handwritten/Train/NOTHING/__8_9389422.png'),\n",
       " PosixPath('/tmp/ramdisk/handwritten/Train/NOTHING/__8_9331752.png'),\n",
       " PosixPath('/tmp/ramdisk/handwritten/Train/NOTHING/__9_96768.png'),\n",
       " PosixPath('/tmp/ramdisk/handwritten/Train/NOTHING/__9_962315.png'),\n",
       " PosixPath('/tmp/ramdisk/handwritten/Train/NOTHING/__9_947399.png'),\n",
       " PosixPath('/tmp/ramdisk/handwritten/Train/NOTHING/__9_945916.png'),\n",
       " PosixPath('/tmp/ramdisk/handwritten/Train/NOTHING/__9_919800.png'),\n",
       " PosixPath('/tmp/ramdisk/handwritten/Train/NOTHING/__9_889032.png'),\n",
       " PosixPath('/tmp/ramdisk/handwritten/Train/NOTHING/__9_860182.png'),\n",
       " PosixPath('/tmp/ramdisk/handwritten/Train/NOTHING/__9_843824.png'),\n",
       " PosixPath('/tmp/ramdisk/handwritten/Train/NOTHING/__9_834027.png'),\n",
       " PosixPath('/tmp/ramdisk/handwritten/Train/NOTHING/__9_775340.png'),\n",
       " PosixPath('/tmp/ramdisk/handwritten/Train/NOTHING/__9_82670.png'),\n",
       " PosixPath('/tmp/ramdisk/handwritten/Train/NOTHING/__9_76570.png'),\n",
       " PosixPath('/tmp/ramdisk/handwritten/Train/NOTHING/__9_72504.png'),\n",
       " PosixPath('/tmp/ramdisk/handwritten/Train/NOTHING/__9_700145.png'),\n",
       " PosixPath('/tmp/ramdisk/handwritten/Train/NOTHING/__9_694105.png'),\n",
       " PosixPath('/tmp/ramdisk/handwritten/Train/NOTHING/__9_685007.png'),\n",
       " PosixPath('/tmp/ramdisk/handwritten/Train/NOTHING/__9_684280.png'),\n",
       " PosixPath('/tmp/ramdisk/handwritten/Train/NOTHING/__9_640091.png'),\n",
       " PosixPath('/tmp/ramdisk/handwritten/Train/NOTHING/__9_637179.png'),\n",
       " PosixPath('/tmp/ramdisk/handwritten/Train/NOTHING/__9_589820.png')]"
      ]
     },
     "execution_count": 4,
     "metadata": {},
     "output_type": "execute_result"
    }
   ],
   "source": [
    "! mkdir {path/'Train/NOTHING'}\n",
    "! mv {path/'Train/#/*'} {path/'Train/NOTHING'}\n",
    "! rmdir {path/'Train/#'}\n",
    "! mv {path/'Train/$/*'} {path/'Train/NOTHING'}\n",
    "! rmdir {path/'Train/$'}\n",
    "! mv {path/'Train/\\&/*'} {path/'Train/NOTHING'}\n",
    "! rmdir {path/'Train/\\&'}\n",
    "! mv {path}/Train/@/* {path/'Train/NOTHING'}\n",
    "! rmdir {path/'Train/\\@'}\n",
    "path_nothing = path/'Train/NOTHING'\n",
    "path_nothing.ls()"
   ]
  },
  {
   "cell_type": "code",
   "execution_count": 5,
   "metadata": {},
   "outputs": [
    {
     "data": {
      "text/plain": [
       "[PosixPath('/tmp/ramdisk/handwritten/Train/NOTHING'),\n",
       " PosixPath('/tmp/ramdisk/handwritten/Train/Z'),\n",
       " PosixPath('/tmp/ramdisk/handwritten/Train/Y'),\n",
       " PosixPath('/tmp/ramdisk/handwritten/Train/X'),\n",
       " PosixPath('/tmp/ramdisk/handwritten/Train/W'),\n",
       " PosixPath('/tmp/ramdisk/handwritten/Train/V'),\n",
       " PosixPath('/tmp/ramdisk/handwritten/Train/U'),\n",
       " PosixPath('/tmp/ramdisk/handwritten/Train/T'),\n",
       " PosixPath('/tmp/ramdisk/handwritten/Train/S'),\n",
       " PosixPath('/tmp/ramdisk/handwritten/Train/R'),\n",
       " PosixPath('/tmp/ramdisk/handwritten/Train/Q'),\n",
       " PosixPath('/tmp/ramdisk/handwritten/Train/P'),\n",
       " PosixPath('/tmp/ramdisk/handwritten/Train/N'),\n",
       " PosixPath('/tmp/ramdisk/handwritten/Train/M'),\n",
       " PosixPath('/tmp/ramdisk/handwritten/Train/L'),\n",
       " PosixPath('/tmp/ramdisk/handwritten/Train/K'),\n",
       " PosixPath('/tmp/ramdisk/handwritten/Train/J'),\n",
       " PosixPath('/tmp/ramdisk/handwritten/Train/I'),\n",
       " PosixPath('/tmp/ramdisk/handwritten/Train/H'),\n",
       " PosixPath('/tmp/ramdisk/handwritten/Train/G'),\n",
       " PosixPath('/tmp/ramdisk/handwritten/Train/F'),\n",
       " PosixPath('/tmp/ramdisk/handwritten/Train/E'),\n",
       " PosixPath('/tmp/ramdisk/handwritten/Train/D'),\n",
       " PosixPath('/tmp/ramdisk/handwritten/Train/C'),\n",
       " PosixPath('/tmp/ramdisk/handwritten/Train/B'),\n",
       " PosixPath('/tmp/ramdisk/handwritten/Train/A'),\n",
       " PosixPath('/tmp/ramdisk/handwritten/Train/9'),\n",
       " PosixPath('/tmp/ramdisk/handwritten/Train/8'),\n",
       " PosixPath('/tmp/ramdisk/handwritten/Train/7'),\n",
       " PosixPath('/tmp/ramdisk/handwritten/Train/6'),\n",
       " PosixPath('/tmp/ramdisk/handwritten/Train/5'),\n",
       " PosixPath('/tmp/ramdisk/handwritten/Train/4'),\n",
       " PosixPath('/tmp/ramdisk/handwritten/Train/3'),\n",
       " PosixPath('/tmp/ramdisk/handwritten/Train/2'),\n",
       " PosixPath('/tmp/ramdisk/handwritten/Train/1'),\n",
       " PosixPath('/tmp/ramdisk/handwritten/Train/0')]"
      ]
     },
     "execution_count": 5,
     "metadata": {},
     "output_type": "execute_result"
    }
   ],
   "source": [
    "path_train.ls()"
   ]
  },
  {
   "cell_type": "code",
   "execution_count": 6,
   "metadata": {},
   "outputs": [
    {
     "data": {
      "text/plain": [
       "[PosixPath('/tmp/ramdisk/handwritten/Validation/Z'),\n",
       " PosixPath('/tmp/ramdisk/handwritten/Validation/Y'),\n",
       " PosixPath('/tmp/ramdisk/handwritten/Validation/X'),\n",
       " PosixPath('/tmp/ramdisk/handwritten/Validation/W'),\n",
       " PosixPath('/tmp/ramdisk/handwritten/Validation/V'),\n",
       " PosixPath('/tmp/ramdisk/handwritten/Validation/U'),\n",
       " PosixPath('/tmp/ramdisk/handwritten/Validation/T'),\n",
       " PosixPath('/tmp/ramdisk/handwritten/Validation/S'),\n",
       " PosixPath('/tmp/ramdisk/handwritten/Validation/R'),\n",
       " PosixPath('/tmp/ramdisk/handwritten/Validation/Q'),\n",
       " PosixPath('/tmp/ramdisk/handwritten/Validation/P'),\n",
       " PosixPath('/tmp/ramdisk/handwritten/Validation/N'),\n",
       " PosixPath('/tmp/ramdisk/handwritten/Validation/M'),\n",
       " PosixPath('/tmp/ramdisk/handwritten/Validation/L'),\n",
       " PosixPath('/tmp/ramdisk/handwritten/Validation/K'),\n",
       " PosixPath('/tmp/ramdisk/handwritten/Validation/J'),\n",
       " PosixPath('/tmp/ramdisk/handwritten/Validation/I'),\n",
       " PosixPath('/tmp/ramdisk/handwritten/Validation/H'),\n",
       " PosixPath('/tmp/ramdisk/handwritten/Validation/G'),\n",
       " PosixPath('/tmp/ramdisk/handwritten/Validation/F'),\n",
       " PosixPath('/tmp/ramdisk/handwritten/Validation/E'),\n",
       " PosixPath('/tmp/ramdisk/handwritten/Validation/D'),\n",
       " PosixPath('/tmp/ramdisk/handwritten/Validation/C'),\n",
       " PosixPath('/tmp/ramdisk/handwritten/Validation/B'),\n",
       " PosixPath('/tmp/ramdisk/handwritten/Validation/A'),\n",
       " PosixPath('/tmp/ramdisk/handwritten/Validation/@'),\n",
       " PosixPath('/tmp/ramdisk/handwritten/Validation/9'),\n",
       " PosixPath('/tmp/ramdisk/handwritten/Validation/8'),\n",
       " PosixPath('/tmp/ramdisk/handwritten/Validation/7'),\n",
       " PosixPath('/tmp/ramdisk/handwritten/Validation/6'),\n",
       " PosixPath('/tmp/ramdisk/handwritten/Validation/5'),\n",
       " PosixPath('/tmp/ramdisk/handwritten/Validation/4'),\n",
       " PosixPath('/tmp/ramdisk/handwritten/Validation/3'),\n",
       " PosixPath('/tmp/ramdisk/handwritten/Validation/2'),\n",
       " PosixPath('/tmp/ramdisk/handwritten/Validation/1'),\n",
       " PosixPath('/tmp/ramdisk/handwritten/Validation/0'),\n",
       " PosixPath('/tmp/ramdisk/handwritten/Validation/&'),\n",
       " PosixPath('/tmp/ramdisk/handwritten/Validation/$'),\n",
       " PosixPath('/tmp/ramdisk/handwritten/Validation/#')]"
      ]
     },
     "execution_count": 6,
     "metadata": {},
     "output_type": "execute_result"
    }
   ],
   "source": [
    "path_validation = path/'Validation'\n",
    "path_validation.ls()"
   ]
  },
  {
   "cell_type": "code",
   "execution_count": 7,
   "metadata": {},
   "outputs": [
    {
     "data": {
      "text/plain": [
       "[PosixPath('/tmp/ramdisk/handwritten/Validation/NOTHING/__0_1751754.png'),\n",
       " PosixPath('/tmp/ramdisk/handwritten/Validation/NOTHING/__0_1394069.png'),\n",
       " PosixPath('/tmp/ramdisk/handwritten/Validation/NOTHING/__0_1218973.png'),\n",
       " PosixPath('/tmp/ramdisk/handwritten/Validation/NOTHING/__0_962200.png'),\n",
       " PosixPath('/tmp/ramdisk/handwritten/Validation/NOTHING/__0_944426.png'),\n",
       " PosixPath('/tmp/ramdisk/handwritten/Validation/NOTHING/__0_784023.png'),\n",
       " PosixPath('/tmp/ramdisk/handwritten/Validation/NOTHING/__0_487085.png'),\n",
       " PosixPath('/tmp/ramdisk/handwritten/Validation/NOTHING/__0_142135.png'),\n",
       " PosixPath('/tmp/ramdisk/handwritten/Validation/NOTHING/__0_121440.png')]"
      ]
     },
     "execution_count": 7,
     "metadata": {},
     "output_type": "execute_result"
    }
   ],
   "source": [
    "! mkdir {path/'Validation/NOTHING'}\n",
    "! mv {path/'Validation/#/*'} {path/'Validation/NOTHING'}\n",
    "! rmdir {path/'Validation/#'}\n",
    "! mv {path/'Validation/$/*'} {path/'Validation/NOTHING'}\n",
    "! rmdir {path/'Validation/$'}\n",
    "! mv {path/'Validation/\\&/*'} {path/'Validation/NOTHING'}\n",
    "! rmdir {path/'Validation/\\&'}\n",
    "! mv {path}/Validation/@/* {path/'Train/NOTHING'}\n",
    "! rmdir {path/'Validation/\\@'}\n",
    "path_nothing = path/'Validation/NOTHING'\n",
    "path_nothing.ls()"
   ]
  },
  {
   "cell_type": "code",
   "execution_count": 9,
   "metadata": {},
   "outputs": [
    {
     "data": {
      "text/plain": [
       "[PosixPath('/tmp/ramdisk/handwritten/Validation/NOTHING'),\n",
       " PosixPath('/tmp/ramdisk/handwritten/Validation/Z'),\n",
       " PosixPath('/tmp/ramdisk/handwritten/Validation/Y'),\n",
       " PosixPath('/tmp/ramdisk/handwritten/Validation/X'),\n",
       " PosixPath('/tmp/ramdisk/handwritten/Validation/W'),\n",
       " PosixPath('/tmp/ramdisk/handwritten/Validation/V'),\n",
       " PosixPath('/tmp/ramdisk/handwritten/Validation/U'),\n",
       " PosixPath('/tmp/ramdisk/handwritten/Validation/T'),\n",
       " PosixPath('/tmp/ramdisk/handwritten/Validation/S'),\n",
       " PosixPath('/tmp/ramdisk/handwritten/Validation/R'),\n",
       " PosixPath('/tmp/ramdisk/handwritten/Validation/Q'),\n",
       " PosixPath('/tmp/ramdisk/handwritten/Validation/P'),\n",
       " PosixPath('/tmp/ramdisk/handwritten/Validation/N'),\n",
       " PosixPath('/tmp/ramdisk/handwritten/Validation/M'),\n",
       " PosixPath('/tmp/ramdisk/handwritten/Validation/L'),\n",
       " PosixPath('/tmp/ramdisk/handwritten/Validation/K'),\n",
       " PosixPath('/tmp/ramdisk/handwritten/Validation/J'),\n",
       " PosixPath('/tmp/ramdisk/handwritten/Validation/I'),\n",
       " PosixPath('/tmp/ramdisk/handwritten/Validation/H'),\n",
       " PosixPath('/tmp/ramdisk/handwritten/Validation/G'),\n",
       " PosixPath('/tmp/ramdisk/handwritten/Validation/F'),\n",
       " PosixPath('/tmp/ramdisk/handwritten/Validation/E'),\n",
       " PosixPath('/tmp/ramdisk/handwritten/Validation/D'),\n",
       " PosixPath('/tmp/ramdisk/handwritten/Validation/C'),\n",
       " PosixPath('/tmp/ramdisk/handwritten/Validation/B'),\n",
       " PosixPath('/tmp/ramdisk/handwritten/Validation/A'),\n",
       " PosixPath('/tmp/ramdisk/handwritten/Validation/9'),\n",
       " PosixPath('/tmp/ramdisk/handwritten/Validation/8'),\n",
       " PosixPath('/tmp/ramdisk/handwritten/Validation/7'),\n",
       " PosixPath('/tmp/ramdisk/handwritten/Validation/6'),\n",
       " PosixPath('/tmp/ramdisk/handwritten/Validation/5'),\n",
       " PosixPath('/tmp/ramdisk/handwritten/Validation/4'),\n",
       " PosixPath('/tmp/ramdisk/handwritten/Validation/3'),\n",
       " PosixPath('/tmp/ramdisk/handwritten/Validation/2'),\n",
       " PosixPath('/tmp/ramdisk/handwritten/Validation/1'),\n",
       " PosixPath('/tmp/ramdisk/handwritten/Validation/0')]"
      ]
     },
     "execution_count": 9,
     "metadata": {},
     "output_type": "execute_result"
    }
   ],
   "source": [
    "path_validation.ls()"
   ]
  },
  {
   "cell_type": "code",
   "execution_count": null,
   "metadata": {},
   "outputs": [],
   "source": []
  }
 ],
 "metadata": {
  "kernelspec": {
   "display_name": "Python 3",
   "language": "python",
   "name": "python3"
  },
  "language_info": {
   "codemirror_mode": {
    "name": "ipython",
    "version": 3
   },
   "file_extension": ".py",
   "mimetype": "text/x-python",
   "name": "python",
   "nbconvert_exporter": "python",
   "pygments_lexer": "ipython3",
   "version": "3.7.0"
  }
 },
 "nbformat": 4,
 "nbformat_minor": 2
}
