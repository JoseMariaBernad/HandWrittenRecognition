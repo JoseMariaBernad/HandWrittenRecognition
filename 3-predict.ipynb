{
 "cells": [
  {
   "cell_type": "code",
   "execution_count": 1,
   "metadata": {
    "nbpresent": {
     "id": "5418a6aa-f7fd-4a96-9306-53107c8908e4"
    }
   },
   "outputs": [],
   "source": [
    "%reload_ext autoreload\n",
    "%autoreload 2\n",
    "%matplotlib inline"
   ]
  },
  {
   "cell_type": "code",
   "execution_count": 2,
   "metadata": {
    "nbpresent": {
     "id": "535c8196-48f5-42c2-bc98-0480a5c956b8"
    }
   },
   "outputs": [],
   "source": [
    "from fastai import *\n",
    "from fastai.vision import *\n",
    "path = Path(Config.get_key('data_path')).expanduser()/'handwritten'\n",
    "#bs = 4096\n",
    "#tfms = get_transforms(do_flip=False)\n",
    "#data = ImageDataBunch.from_folder(path, train='Train', valid='Validation', ds_tfms=tfms, size=32, bs=bs)\n",
    "#learn = create_cnn(data, models.resnet34, metrics=error_rate)"
   ]
  },
  {
   "cell_type": "code",
   "execution_count": 3,
   "metadata": {
    "nbpresent": {
     "id": "85eb5414-b1a6-44bf-afc4-becef4c18318"
    }
   },
   "outputs": [],
   "source": [
    "classes = ['#', '$', '&', '0', '1', '2', '3', '4', '5', '6', '7', '8', '9', '@', 'A', 'B', 'C', 'D', 'E', 'F', 'G', 'H', 'I', 'J', 'K', 'L', 'M', 'N', 'P', 'Q', 'R', 'S', 'T', 'U', 'V', 'W', 'X', 'Y', 'Z']"
   ]
  },
  {
   "cell_type": "code",
   "execution_count": 4,
   "metadata": {
    "nbpresent": {
     "id": "5631d8f9-4fdc-4c6c-ac09-b85cc304430a"
    }
   },
   "outputs": [],
   "source": [
    "#empty_data = ImageDataBunch.single_from_classes(path, classes, tfms=get_transforms()).normalize(imagenet_stats)\n",
    "empty_data = ImageDataBunch.single_from_classes(path, classes, tfms=get_transforms())\n",
    "learn = create_cnn(empty_data, models.resnet34)\n",
    "# The model was created as DataParallel, therefore we need to load it as DataParallel for inference.\n",
    "learn.model = torch.nn.DataParallel(learn.model)"
   ]
  },
  {
   "cell_type": "code",
   "execution_count": 5,
   "metadata": {
    "nbpresent": {
     "id": "c636595e-3372-4ab6-9bd6-bccb93d4d655"
    }
   },
   "outputs": [],
   "source": [
    "learn.load('stage-2-resnet34-32px')"
   ]
  },
  {
   "cell_type": "code",
   "execution_count": 6,
   "metadata": {
    "nbpresent": {
     "id": "557d8821-ef3a-434a-b653-84311e122f69"
    }
   },
   "outputs": [],
   "source": [
    "img_folder = path/'Validation/J'\n",
    "img_path = path/'Validation/J/50.jpg'\n",
    "#img_folder.ls()"
   ]
  },
  {
   "cell_type": "code",
   "execution_count": 7,
   "metadata": {
    "nbpresent": {
     "id": "016ae93c-a4ed-4777-b178-64217dafb678"
    }
   },
   "outputs": [
    {
     "data": {
      "image/png": "[encoded data removed]",
      "text/plain": [
       "<Figure size 216x216 with 1 Axes>"
      ]
     },
     "metadata": {
      "needs_background": "light"
     },
     "output_type": "display_data"
    }
   ],
   "source": [
    "#img = open_image(data.train_ds.x[50000])\n",
    "img = open_image(img_path)\n",
    "img.show()"
   ]
  },
  {
   "cell_type": "code",
   "execution_count": 8,
   "metadata": {
    "nbpresent": {
     "id": "236868a5-b343-4ef9-a7e4-8fee6f8dc987"
    }
   },
   "outputs": [
    {
     "data": {
      "text/plain": [
       "('J',\n",
       " tensor(23),\n",
       " tensor([5.0915e-01, 6.7921e-01, 3.3920e-01, 7.6282e-02, 2.0044e+01, 1.2925e+00,\n",
       "         2.4058e+00, 2.7680e-02, 9.9432e+02, 1.4533e-01, 2.1860e+00, 1.5286e-01,\n",
       "         8.1559e-03, 1.8648e-02, 8.8276e-04, 9.5635e-01, 1.3836e-01, 1.1316e+00,\n",
       "         8.4145e-01, 3.1691e+01, 2.3780e-02, 5.1446e-02, 3.8148e+02, 6.8944e+04,\n",
       "         1.8652e+00, 5.0135e+01, 6.5295e-02, 2.4911e-02, 1.9939e-01, 2.1289e-02,\n",
       "         1.0846e+00, 2.0734e+00, 2.3412e+02, 1.2138e+00, 2.7126e-01, 1.8726e-02,\n",
       "         1.1717e+00, 9.7827e-01, 1.9378e+01]))"
      ]
     },
     "execution_count": 8,
     "metadata": {},
     "output_type": "execute_result"
    }
   ],
   "source": [
    "learn.predict(img)"
   ]
  },
  {
   "cell_type": "code",
   "execution_count": 9,
   "metadata": {
    "nbpresent": {
     "id": "ecc9b4ac-f7bf-49a6-b4cb-5c10271cd363"
    }
   },
   "outputs": [],
   "source": [
    "#! wget http://yourstorage.blob.core.windows.net/ficheros/e.png"
   ]
  },
  {
   "cell_type": "code",
   "execution_count": 10,
   "metadata": {},
   "outputs": [
    {
     "data": {
      "image/png": "[encoded data removed]",
      "text/plain": [
       "<Figure size 216x216 with 1 Axes>"
      ]
     },
     "metadata": {
      "needs_background": "light"
     },
     "output_type": "display_data"
    }
   ],
   "source": [
    "img = open_image(\"e.png\")\n",
    "img.show()"
   ]
  },
  {
   "cell_type": "code",
   "execution_count": 11,
   "metadata": {},
   "outputs": [
    {
     "data": {
      "text/plain": [
       "('T',\n",
       " tensor(32),\n",
       " tensor([1.0580e+00, 6.7378e-01, 1.1900e+00, 3.0151e+01, 1.1550e+00, 7.5903e+00,\n",
       "         5.9660e-01, 9.1403e-01, 1.1940e-01, 1.5945e-01, 2.9491e+00, 6.3246e-02,\n",
       "         7.6829e-02, 1.8674e-01, 3.2650e-01, 2.4182e+00, 6.4433e+00, 1.1289e+01,\n",
       "         9.0881e+00, 3.4065e+00, 1.4036e-02, 8.5021e-02, 1.3288e+01, 8.6918e+00,\n",
       "         9.4362e-01, 3.1971e+00, 6.2158e-01, 2.2171e+00, 3.5839e+01, 2.2274e-01,\n",
       "         5.9771e+00, 2.1479e-01, 8.9982e+01, 7.7744e-01, 4.9226e+00, 1.0818e+01,\n",
       "         7.8822e-01, 1.1060e-01, 5.6203e+00]))"
      ]
     },
     "execution_count": 11,
     "metadata": {},
     "output_type": "execute_result"
    }
   ],
   "source": [
    "learn.predict(img)"
   ]
  },
  {
   "cell_type": "code",
   "execution_count": 12,
   "metadata": {},
   "outputs": [],
   "source": [
    "#! rm 4.png*\n",
    "#! wget http://yourstorage.blob.core.windows.net/ficheros/4.png"
   ]
  },
  {
   "cell_type": "code",
   "execution_count": 13,
   "metadata": {},
   "outputs": [
    {
     "data": {
      "image/png": "[encoded data removed]",
      "text/plain": [
       "<Figure size 216x216 with 1 Axes>"
      ]
     },
     "metadata": {
      "needs_background": "light"
     },
     "output_type": "display_data"
    }
   ],
   "source": [
    "img = open_image(\"4.png\")\n",
    "img.show()"
   ]
  },
  {
   "cell_type": "code",
   "execution_count": 14,
   "metadata": {},
   "outputs": [
    {
     "data": {
      "text/plain": [
       "('2',\n",
       " tensor(5),\n",
       " tensor([2.8651e+01, 7.8163e-01, 2.4273e+00, 9.3279e-04, 3.9651e+00, 4.6861e+02,\n",
       "         2.9150e+00, 3.0312e-01, 8.4479e-01, 1.6170e-02, 2.0840e-01, 1.9164e-03,\n",
       "         1.8348e+00, 3.2764e-01, 3.2780e+02, 3.8034e+00, 3.2383e-01, 2.8538e+00,\n",
       "         3.8291e+00, 1.5664e-02, 2.5684e+00, 2.4984e+00, 6.2430e+00, 5.1964e+01,\n",
       "         3.4403e-01, 8.5277e+00, 4.9288e+00, 2.1688e+01, 7.3078e-01, 5.4234e+00,\n",
       "         1.5278e+02, 2.3193e+01, 1.1537e-02, 1.5025e-01, 5.3726e+00, 5.8060e+00,\n",
       "         2.5256e-02, 8.1040e-01, 1.1062e+01]))"
      ]
     },
     "execution_count": 14,
     "metadata": {},
     "output_type": "execute_result"
    }
   ],
   "source": [
    "learn.predict(img)"
   ]
  },
  {
   "cell_type": "code",
   "execution_count": 4,
   "metadata": {},
   "outputs": [
    {
     "data": {
      "text/plain": [
       "<matplotlib.image.AxesImage at 0x69d17b8>"
      ]
     },
     "execution_count": 4,
     "metadata": {},
     "output_type": "execute_result"
    },
    {
     "data": {
      "image/png": "[encoded data removed]",
      "text/plain": [
       "<Figure size 432x288 with 1 Axes>"
      ]
     },
     "metadata": {},
     "output_type": "display_data"
    }
   ],
   "source": [
    "import cv2\n",
    "import numpy as np\n",
    "import matplotlib.pyplot as plt\n",
    "\n",
    "img = cv2.imread('4.png')\n",
    "img = cv2.bitwise_not(img)\n",
    "img = cv2.cvtColor(img, cv2.COLOR_BGR2RGB)\n",
    "\n",
    "\n",
    "plt.imshow(img)"
   ]
  },
  {
   "cell_type": "code",
   "execution_count": 6,
   "metadata": {},
   "outputs": [
    {
     "data": {
      "text/plain": [
       "True"
      ]
     },
     "execution_count": 6,
     "metadata": {},
     "output_type": "execute_result"
    }
   ],
   "source": [
    "cv2.imwrite('4invert.png',img)"
   ]
  },
  {
   "cell_type": "code",
   "execution_count": null,
   "metadata": {},
   "outputs": [],
   "source": [
    "learn.predict(img)"
   ]
  }
 ],
 "metadata": {
  "kernelspec": {
   "display_name": "Python 3",
   "language": "python",
   "name": "python3"
  },
  "language_info": {
   "codemirror_mode": {
    "name": "ipython",
    "version": 3
   },
   "file_extension": ".py",
   "mimetype": "text/x-python",
   "name": "python",
   "nbconvert_exporter": "python",
   "pygments_lexer": "ipython3",
   "version": "3.6.5"
  }
 },
 "nbformat": 4,
 "nbformat_minor": 2
}
