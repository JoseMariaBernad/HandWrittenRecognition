{
 "cells": [
  {
   "cell_type": "code",
   "execution_count": 1,
   "metadata": {
    "nbpresent": {
     "id": "5418a6aa-f7fd-4a96-9306-53107c8908e4"
    }
   },
   "outputs": [],
   "source": [
    "%reload_ext autoreload\n",
    "%autoreload 2\n",
    "%matplotlib inline"
   ]
  },
  {
   "cell_type": "code",
   "execution_count": 2,
   "metadata": {
    "nbpresent": {
     "id": "535c8196-48f5-42c2-bc98-0480a5c956b8"
    }
   },
   "outputs": [],
   "source": [
    "from fastai import *\n",
    "from fastai.vision import *\n",
    "path = Path(Config.get_key('data_path')).expanduser()/'handwritten'\n",
    "#bs = 4096\n",
    "#tfms = get_transforms(do_flip=False)\n",
    "#data = ImageDataBunch.from_folder(path, train='Train', valid='Validation', ds_tfms=tfms, size=32, bs=bs)\n",
    "#learn = create_cnn(data, models.resnet34, metrics=error_rate)"
   ]
  },
  {
   "cell_type": "code",
   "execution_count": 3,
   "metadata": {
    "nbpresent": {
     "id": "85eb5414-b1a6-44bf-afc4-becef4c18318"
    }
   },
   "outputs": [],
   "source": [
    "classes = ['#', '$', '&', '0', '1', '2', '3', '4', '5', '6', '7', '8', '9', '@', 'A', 'B', 'C', 'D', 'E', 'F', 'G', 'H', 'I', 'J', 'K', 'L', 'M', 'N', 'P', 'Q', 'R', 'S', 'T', 'U', 'V', 'W', 'X', 'Y', 'Z']"
   ]
  },
  {
   "cell_type": "code",
   "execution_count": 4,
   "metadata": {
    "nbpresent": {
     "id": "5631d8f9-4fdc-4c6c-ac09-b85cc304430a"
    }
   },
   "outputs": [],
   "source": [
    "#empty_data = ImageDataBunch.single_from_classes(path, classes, tfms=get_transforms()).normalize(imagenet_stats)\n",
    "empty_data = ImageDataBunch.single_from_classes(path, classes, tfms=get_transforms())\n",
    "learn = create_cnn(empty_data, models.resnet34)\n",
    "# The model was created as DataParallel, therefore we need to load it as DataParallel for inference.\n",
    "learn.model = torch.nn.DataParallel(learn.model)"
   ]
  },
  {
   "cell_type": "code",
   "execution_count": 5,
   "metadata": {
    "nbpresent": {
     "id": "c636595e-3372-4ab6-9bd6-bccb93d4d655"
    }
   },
   "outputs": [],
   "source": [
    "learn.path = Path('.')\n",
    "learn.load('stage-2-resnet34-32px')"
   ]
  },
  {
   "cell_type": "code",
   "execution_count": 6,
   "metadata": {
    "nbpresent": {
     "id": "557d8821-ef3a-434a-b653-84311e122f69"
    }
   },
   "outputs": [],
   "source": [
    "img_folder = path/'Validation/J'\n",
    "img_path = path/'Validation/J/50.jpg'\n",
    "#img_folder.ls()"
   ]
  },
  {
   "cell_type": "code",
   "execution_count": 7,
   "metadata": {
    "nbpresent": {
     "id": "016ae93c-a4ed-4777-b178-64217dafb678"
    }
   },
   "outputs": [
    {
     "data": {
      "image/png": "[encoded data removed]",
      "text/plain": [
       "<Figure size 216x216 with 1 Axes>"
      ]
     },
     "metadata": {
      "needs_background": "light"
     },
     "output_type": "display_data"
    }
   ],
   "source": [
    "#img = open_image(data.train_ds.x[50000])\n",
    "img = open_image(img_path)\n",
    "img.show()"
   ]
  },
  {
   "cell_type": "code",
   "execution_count": 8,
   "metadata": {
    "nbpresent": {
     "id": "236868a5-b343-4ef9-a7e4-8fee6f8dc987"
    }
   },
   "outputs": [
    {
     "data": {
      "text/plain": [
       "('J',\n",
       " tensor(23),\n",
       " tensor([7.3875e-02, 3.8184e-01, 1.2064e-01, 1.8829e-02, 4.5135e+01, 1.3159e+00,\n",
       "         2.2532e+00, 3.5167e-03, 5.2337e+03, 1.2280e-01, 1.4935e-01, 1.7468e-01,\n",
       "         7.8048e-04, 7.6714e-02, 1.0882e-03, 4.9951e+00, 2.1151e-01, 2.4137e+00,\n",
       "         7.2458e+00, 2.0913e+01, 6.2811e-02, 2.5599e-02, 7.1250e+03, 6.1568e+05,\n",
       "         1.2470e+00, 3.3651e+01, 1.7764e-02, 1.7493e-02, 2.2698e-02, 5.5340e-03,\n",
       "         2.6134e+00, 2.5987e+00, 3.6984e+02, 2.7769e-01, 1.8690e-01, 7.1974e-03,\n",
       "         2.2318e-01, 1.9894e-01, 5.9458e+00]))"
      ]
     },
     "execution_count": 8,
     "metadata": {},
     "output_type": "execute_result"
    }
   ],
   "source": [
    "learn.predict(img)"
   ]
  },
  {
   "cell_type": "code",
   "execution_count": 9,
   "metadata": {
    "nbpresent": {
     "id": "ecc9b4ac-f7bf-49a6-b4cb-5c10271cd363"
    }
   },
   "outputs": [],
   "source": [
    "#! wget http://yourstorage.blob.core.windows.net/ficheros/e.png"
   ]
  },
  {
   "cell_type": "code",
   "execution_count": 10,
   "metadata": {},
   "outputs": [
    {
     "data": {
      "image/png": "[encoded data removed]",
      "text/plain": [
       "<Figure size 216x216 with 1 Axes>"
      ]
     },
     "metadata": {
      "needs_background": "light"
     },
     "output_type": "display_data"
    }
   ],
   "source": [
    "img = open_image(\"e.png\")\n",
    "img.show()"
   ]
  },
  {
   "cell_type": "code",
   "execution_count": 11,
   "metadata": {},
   "outputs": [
    {
     "data": {
      "text/plain": [
       "('E',\n",
       " tensor(18),\n",
       " tensor([3.6386e+00, 1.6400e+00, 2.5162e-01, 9.4365e-01, 3.8610e-01, 4.6063e+00,\n",
       "         2.2263e+00, 1.5297e+00, 2.2841e-02, 1.3320e-01, 2.1119e+01, 5.0088e-02,\n",
       "         2.4759e-01, 3.4886e-02, 6.3916e+00, 7.3167e-01, 1.3503e+00, 1.4749e+01,\n",
       "         5.9344e+02, 6.6867e+00, 1.7525e-01, 1.0570e-02, 1.8196e+00, 4.3867e+00,\n",
       "         1.0645e-01, 5.1422e-01, 1.2771e+00, 2.7306e+01, 5.1395e+01, 1.6666e+00,\n",
       "         1.3637e+01, 1.6401e+00, 1.4222e+02, 1.3468e+00, 1.6043e+00, 6.1262e+00,\n",
       "         4.7501e-01, 2.8776e-02, 4.0821e+01]))"
      ]
     },
     "execution_count": 11,
     "metadata": {},
     "output_type": "execute_result"
    }
   ],
   "source": [
    "learn.predict(img)"
   ]
  },
  {
   "cell_type": "code",
   "execution_count": 12,
   "metadata": {},
   "outputs": [],
   "source": [
    "#! rm 4.png*\n",
    "#! wget http://yourstorage.blob.core.windows.net/ficheros/4.png"
   ]
  },
  {
   "cell_type": "code",
   "execution_count": 13,
   "metadata": {},
   "outputs": [
    {
     "data": {
      "image/png": "[encoded data removed]",
      "text/plain": [
       "<Figure size 216x216 with 1 Axes>"
      ]
     },
     "metadata": {
      "needs_background": "light"
     },
     "output_type": "display_data"
    }
   ],
   "source": [
    "img = open_image(\"4.png\")\n",
    "img.show()"
   ]
  },
  {
   "cell_type": "code",
   "execution_count": 14,
   "metadata": {},
   "outputs": [
    {
     "data": {
      "text/plain": [
       "('A',\n",
       " tensor(14),\n",
       " tensor([4.3342e+00, 4.1307e-01, 3.2498e-02, 9.9408e-02, 1.9466e+00, 1.7863e+01,\n",
       "         4.6578e-01, 1.1375e-01, 1.4924e+00, 1.0553e+00, 3.1489e-02, 6.0895e-02,\n",
       "         3.9846e-03, 3.2297e-02, 1.2900e+02, 4.2046e+01, 7.8677e-02, 5.2793e+01,\n",
       "         1.9115e+00, 5.7047e-02, 3.9228e-01, 2.4431e+00, 1.2162e+00, 5.3275e+01,\n",
       "         5.9486e-02, 3.2763e+00, 2.8085e+00, 9.7070e+00, 2.3352e-01, 1.7009e-02,\n",
       "         9.2983e+00, 3.3875e+01, 3.5483e-02, 1.1104e+00, 2.9345e-01, 6.3530e-01,\n",
       "         8.6206e-01, 5.8393e-02, 1.8066e+00]))"
      ]
     },
     "execution_count": 14,
     "metadata": {},
     "output_type": "execute_result"
    }
   ],
   "source": [
    "learn.predict(img)"
   ]
  },
  {
   "cell_type": "code",
   "execution_count": 15,
   "metadata": {},
   "outputs": [
    {
     "data": {
      "text/plain": [
       "<matplotlib.image.AxesImage at 0x7fb8b08a0630>"
      ]
     },
     "execution_count": 15,
     "metadata": {},
     "output_type": "execute_result"
    },
    {
     "data": {
      "image/png": "[encoded data removed]",
      "text/plain": [
       "<Figure size 432x288 with 1 Axes>"
      ]
     },
     "metadata": {
      "needs_background": "light"
     },
     "output_type": "display_data"
    }
   ],
   "source": [
    "import cv2\n",
    "import numpy as np\n",
    "import matplotlib.pyplot as plt\n",
    "\n",
    "img = cv2.imread('4.png')\n",
    "img = cv2.bitwise_not(img)\n",
    "img = cv2.cvtColor(img, cv2.COLOR_BGR2RGB)\n",
    "\n",
    "\n",
    "plt.imshow(img)"
   ]
  },
  {
   "cell_type": "code",
   "execution_count": 16,
   "metadata": {},
   "outputs": [
    {
     "data": {
      "text/plain": [
       "True"
      ]
     },
     "execution_count": 16,
     "metadata": {},
     "output_type": "execute_result"
    }
   ],
   "source": [
    "cv2.imwrite('4invert.png',img)"
   ]
  },
  {
   "cell_type": "code",
   "execution_count": 17,
   "metadata": {},
   "outputs": [
    {
     "data": {
      "image/png": "[encoded data removed]",
      "text/plain": [
       "<Figure size 216x216 with 1 Axes>"
      ]
     },
     "metadata": {
      "needs_background": "light"
     },
     "output_type": "display_data"
    }
   ],
   "source": [
    "img = open_image(\"4invert.png\")\n",
    "img.show()"
   ]
  },
  {
   "cell_type": "code",
   "execution_count": 18,
   "metadata": {},
   "outputs": [
    {
     "data": {
      "text/plain": [
       "('#',\n",
       " tensor(0),\n",
       " tensor([2.3041e+05, 1.9771e+01, 5.9362e-04, 9.0081e-06, 4.8550e-02, 8.7049e+01,\n",
       "         5.7090e-01, 7.3029e-02, 9.8995e-03, 1.2363e+00, 1.2090e+00, 4.2477e-09,\n",
       "         2.4246e-04, 2.6890e+02, 3.3473e+01, 2.6917e+01, 2.5073e-04, 1.3536e+00,\n",
       "         4.8122e+00, 4.1500e-04, 4.3830e-03, 2.4442e-01, 2.2846e-01, 1.5421e+04,\n",
       "         6.7920e-03, 1.0825e-02, 8.9473e+04, 3.3617e+02, 1.3749e+02, 2.2891e-04,\n",
       "         5.6644e+04, 8.2494e-03, 5.6983e-06, 8.1387e+00, 8.6351e+00, 5.2690e+03,\n",
       "         9.8112e-04, 1.7004e-04, 4.8900e-02]))"
      ]
     },
     "execution_count": 18,
     "metadata": {},
     "output_type": "execute_result"
    }
   ],
   "source": [
    "learn.predict(img)"
   ]
  },
  {
   "cell_type": "code",
   "execution_count": null,
   "metadata": {},
   "outputs": [],
   "source": []
  }
 ],
 "metadata": {
  "kernelspec": {
   "display_name": "Python 3.6 - AzureML",
   "language": "python",
   "name": "python3-azureml"
  },
  "language_info": {
   "codemirror_mode": {
    "name": "ipython",
    "version": 3
   },
   "file_extension": ".py",
   "mimetype": "text/x-python",
   "name": "python",
   "nbconvert_exporter": "python",
   "pygments_lexer": "ipython3",
   "version": "3.6.6"
  }
 },
 "nbformat": 4,
 "nbformat_minor": 2
}
