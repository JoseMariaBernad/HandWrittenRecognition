{
 "cells": [
  {
   "cell_type": "code",
   "execution_count": 1,
   "metadata": {},
   "outputs": [],
   "source": [
    "%reload_ext autoreload\n",
    "%autoreload 2\n",
    "%matplotlib inline\n",
    "\n",
    "from fastai import *\n",
    "from fastai.vision import *\n",
    "\n",
    "from common import path\n",
    "from common import permanent_path"
   ]
  },
  {
   "cell_type": "code",
   "execution_count": 2,
   "metadata": {},
   "outputs": [
    {
     "data": {
      "text/plain": [
       "[PosixPath('/tmp/ramdisk/handwritten/Validation'),\n",
       " PosixPath('/tmp/ramdisk/handwritten/Train')]"
      ]
     },
     "execution_count": 2,
     "metadata": {},
     "output_type": "execute_result"
    }
   ],
   "source": [
    "path.ls()"
   ]
  },
  {
   "cell_type": "code",
   "execution_count": 3,
   "metadata": {},
   "outputs": [
    {
     "data": {
      "text/plain": [
       "[PosixPath('/tmp/ramdisk/handwritten/Train/Z'),\n",
       " PosixPath('/tmp/ramdisk/handwritten/Train/Y'),\n",
       " PosixPath('/tmp/ramdisk/handwritten/Train/X'),\n",
       " PosixPath('/tmp/ramdisk/handwritten/Train/W'),\n",
       " PosixPath('/tmp/ramdisk/handwritten/Train/V'),\n",
       " PosixPath('/tmp/ramdisk/handwritten/Train/U'),\n",
       " PosixPath('/tmp/ramdisk/handwritten/Train/T'),\n",
       " PosixPath('/tmp/ramdisk/handwritten/Train/S'),\n",
       " PosixPath('/tmp/ramdisk/handwritten/Train/R'),\n",
       " PosixPath('/tmp/ramdisk/handwritten/Train/Q'),\n",
       " PosixPath('/tmp/ramdisk/handwritten/Train/P'),\n",
       " PosixPath('/tmp/ramdisk/handwritten/Train/N'),\n",
       " PosixPath('/tmp/ramdisk/handwritten/Train/M'),\n",
       " PosixPath('/tmp/ramdisk/handwritten/Train/L'),\n",
       " PosixPath('/tmp/ramdisk/handwritten/Train/K'),\n",
       " PosixPath('/tmp/ramdisk/handwritten/Train/J'),\n",
       " PosixPath('/tmp/ramdisk/handwritten/Train/I'),\n",
       " PosixPath('/tmp/ramdisk/handwritten/Train/H'),\n",
       " PosixPath('/tmp/ramdisk/handwritten/Train/G'),\n",
       " PosixPath('/tmp/ramdisk/handwritten/Train/F'),\n",
       " PosixPath('/tmp/ramdisk/handwritten/Train/E'),\n",
       " PosixPath('/tmp/ramdisk/handwritten/Train/D'),\n",
       " PosixPath('/tmp/ramdisk/handwritten/Train/C'),\n",
       " PosixPath('/tmp/ramdisk/handwritten/Train/B'),\n",
       " PosixPath('/tmp/ramdisk/handwritten/Train/A'),\n",
       " PosixPath('/tmp/ramdisk/handwritten/Train/@'),\n",
       " PosixPath('/tmp/ramdisk/handwritten/Train/9'),\n",
       " PosixPath('/tmp/ramdisk/handwritten/Train/8'),\n",
       " PosixPath('/tmp/ramdisk/handwritten/Train/7'),\n",
       " PosixPath('/tmp/ramdisk/handwritten/Train/6'),\n",
       " PosixPath('/tmp/ramdisk/handwritten/Train/5'),\n",
       " PosixPath('/tmp/ramdisk/handwritten/Train/4'),\n",
       " PosixPath('/tmp/ramdisk/handwritten/Train/3'),\n",
       " PosixPath('/tmp/ramdisk/handwritten/Train/2'),\n",
       " PosixPath('/tmp/ramdisk/handwritten/Train/1'),\n",
       " PosixPath('/tmp/ramdisk/handwritten/Train/0'),\n",
       " PosixPath('/tmp/ramdisk/handwritten/Train/&'),\n",
       " PosixPath('/tmp/ramdisk/handwritten/Train/$'),\n",
       " PosixPath('/tmp/ramdisk/handwritten/Train/#')]"
      ]
     },
     "execution_count": 3,
     "metadata": {},
     "output_type": "execute_result"
    }
   ],
   "source": [
    "path_train = path/'Train'\n",
    "path_train.ls()"
   ]
  },
  {
   "cell_type": "code",
   "execution_count": 4,
   "metadata": {},
   "outputs": [],
   "source": [
    "! rm -R {path/'Train/#'}\n",
    "! rm -R {path/'Train/$'}\n",
    "! rm -R {path/'Train/\\&'}\n",
    "! rm -R {path}/Train/\\@\n",
    "! rm -R {path/'Train/I'}\n",
    "! rm -R {path/'Train/J'}\n",
    "! rm -R {path/'Train/K'}\n",
    "! rm -R {path/'Train/L'}\n",
    "! rm -R {path/'Train/M'}\n",
    "! rm -R {path/'Train/N'}\n",
    "! rm -R {path/'Train/P'}\n",
    "! rm -R {path/'Train/Q'}\n",
    "! rm -R {path/'Train/S'}\n",
    "! rm -R {path/'Train/U'}\n",
    "! rm -R {path/'Train/V'}\n",
    "! rm -R {path/'Train/W'}\n",
    "! rm -R {path/'Train/Y'}\n",
    "! rm -R {path/'Train/Z'}\n",
    "! rm -R {path/'Train/9'}"
   ]
  },
  {
   "cell_type": "code",
   "execution_count": 5,
   "metadata": {},
   "outputs": [
    {
     "data": {
      "text/plain": [
       "[PosixPath('/tmp/ramdisk/handwritten/Validation/Z'),\n",
       " PosixPath('/tmp/ramdisk/handwritten/Validation/Y'),\n",
       " PosixPath('/tmp/ramdisk/handwritten/Validation/X'),\n",
       " PosixPath('/tmp/ramdisk/handwritten/Validation/W'),\n",
       " PosixPath('/tmp/ramdisk/handwritten/Validation/V'),\n",
       " PosixPath('/tmp/ramdisk/handwritten/Validation/U'),\n",
       " PosixPath('/tmp/ramdisk/handwritten/Validation/T'),\n",
       " PosixPath('/tmp/ramdisk/handwritten/Validation/S'),\n",
       " PosixPath('/tmp/ramdisk/handwritten/Validation/R'),\n",
       " PosixPath('/tmp/ramdisk/handwritten/Validation/Q'),\n",
       " PosixPath('/tmp/ramdisk/handwritten/Validation/P'),\n",
       " PosixPath('/tmp/ramdisk/handwritten/Validation/N'),\n",
       " PosixPath('/tmp/ramdisk/handwritten/Validation/M'),\n",
       " PosixPath('/tmp/ramdisk/handwritten/Validation/L'),\n",
       " PosixPath('/tmp/ramdisk/handwritten/Validation/K'),\n",
       " PosixPath('/tmp/ramdisk/handwritten/Validation/J'),\n",
       " PosixPath('/tmp/ramdisk/handwritten/Validation/I'),\n",
       " PosixPath('/tmp/ramdisk/handwritten/Validation/H'),\n",
       " PosixPath('/tmp/ramdisk/handwritten/Validation/G'),\n",
       " PosixPath('/tmp/ramdisk/handwritten/Validation/F'),\n",
       " PosixPath('/tmp/ramdisk/handwritten/Validation/E'),\n",
       " PosixPath('/tmp/ramdisk/handwritten/Validation/D'),\n",
       " PosixPath('/tmp/ramdisk/handwritten/Validation/C'),\n",
       " PosixPath('/tmp/ramdisk/handwritten/Validation/B'),\n",
       " PosixPath('/tmp/ramdisk/handwritten/Validation/A'),\n",
       " PosixPath('/tmp/ramdisk/handwritten/Validation/@'),\n",
       " PosixPath('/tmp/ramdisk/handwritten/Validation/9'),\n",
       " PosixPath('/tmp/ramdisk/handwritten/Validation/8'),\n",
       " PosixPath('/tmp/ramdisk/handwritten/Validation/7'),\n",
       " PosixPath('/tmp/ramdisk/handwritten/Validation/6'),\n",
       " PosixPath('/tmp/ramdisk/handwritten/Validation/5'),\n",
       " PosixPath('/tmp/ramdisk/handwritten/Validation/4'),\n",
       " PosixPath('/tmp/ramdisk/handwritten/Validation/3'),\n",
       " PosixPath('/tmp/ramdisk/handwritten/Validation/2'),\n",
       " PosixPath('/tmp/ramdisk/handwritten/Validation/1'),\n",
       " PosixPath('/tmp/ramdisk/handwritten/Validation/0'),\n",
       " PosixPath('/tmp/ramdisk/handwritten/Validation/&'),\n",
       " PosixPath('/tmp/ramdisk/handwritten/Validation/$'),\n",
       " PosixPath('/tmp/ramdisk/handwritten/Validation/#')]"
      ]
     },
     "execution_count": 5,
     "metadata": {},
     "output_type": "execute_result"
    }
   ],
   "source": [
    "path_validation = path/'Validation'\n",
    "path_validation.ls()"
   ]
  },
  {
   "cell_type": "code",
   "execution_count": 6,
   "metadata": {},
   "outputs": [],
   "source": [
    "! rm -R {path/'Validation/#'}\n",
    "! rm -R {path/'Validation/$'}\n",
    "! rm -R {path/'Validation/\\&'}\n",
    "! rm -R {path}/Validation/\\@\n",
    "! rm -R {path/'Validation/I'}\n",
    "! rm -R {path/'Validation/J'}\n",
    "! rm -R {path/'Validation/K'}\n",
    "! rm -R {path/'Validation/L'}\n",
    "! rm -R {path/'Validation/M'}\n",
    "! rm -R {path/'Validation/N'}\n",
    "! rm -R {path/'Validation/P'}\n",
    "! rm -R {path/'Validation/Q'}\n",
    "! rm -R {path/'Validation/S'}\n",
    "! rm -R {path/'Validation/U'}\n",
    "! rm -R {path/'Validation/V'}\n",
    "! rm -R {path/'Validation/W'}\n",
    "! rm -R {path/'Validation/Y'}\n",
    "! rm -R {path/'Validation/Z'}\n",
    "! rm -R {path/'Validation/9'}"
   ]
  },
  {
   "cell_type": "code",
   "execution_count": 7,
   "metadata": {},
   "outputs": [
    {
     "data": {
      "text/plain": [
       "[PosixPath('/tmp/ramdisk/handwritten/Train/X'),\n",
       " PosixPath('/tmp/ramdisk/handwritten/Train/T'),\n",
       " PosixPath('/tmp/ramdisk/handwritten/Train/R'),\n",
       " PosixPath('/tmp/ramdisk/handwritten/Train/H'),\n",
       " PosixPath('/tmp/ramdisk/handwritten/Train/G'),\n",
       " PosixPath('/tmp/ramdisk/handwritten/Train/F'),\n",
       " PosixPath('/tmp/ramdisk/handwritten/Train/E'),\n",
       " PosixPath('/tmp/ramdisk/handwritten/Train/D'),\n",
       " PosixPath('/tmp/ramdisk/handwritten/Train/C'),\n",
       " PosixPath('/tmp/ramdisk/handwritten/Train/B'),\n",
       " PosixPath('/tmp/ramdisk/handwritten/Train/A'),\n",
       " PosixPath('/tmp/ramdisk/handwritten/Train/8'),\n",
       " PosixPath('/tmp/ramdisk/handwritten/Train/7'),\n",
       " PosixPath('/tmp/ramdisk/handwritten/Train/6'),\n",
       " PosixPath('/tmp/ramdisk/handwritten/Train/5'),\n",
       " PosixPath('/tmp/ramdisk/handwritten/Train/4'),\n",
       " PosixPath('/tmp/ramdisk/handwritten/Train/3'),\n",
       " PosixPath('/tmp/ramdisk/handwritten/Train/2'),\n",
       " PosixPath('/tmp/ramdisk/handwritten/Train/1'),\n",
       " PosixPath('/tmp/ramdisk/handwritten/Train/0')]"
      ]
     },
     "execution_count": 7,
     "metadata": {},
     "output_type": "execute_result"
    }
   ],
   "source": [
    "path_train.ls()"
   ]
  },
  {
   "cell_type": "code",
   "execution_count": 8,
   "metadata": {},
   "outputs": [
    {
     "data": {
      "text/plain": [
       "[PosixPath('/tmp/ramdisk/handwritten/Validation/X'),\n",
       " PosixPath('/tmp/ramdisk/handwritten/Validation/T'),\n",
       " PosixPath('/tmp/ramdisk/handwritten/Validation/R'),\n",
       " PosixPath('/tmp/ramdisk/handwritten/Validation/H'),\n",
       " PosixPath('/tmp/ramdisk/handwritten/Validation/G'),\n",
       " PosixPath('/tmp/ramdisk/handwritten/Validation/F'),\n",
       " PosixPath('/tmp/ramdisk/handwritten/Validation/E'),\n",
       " PosixPath('/tmp/ramdisk/handwritten/Validation/D'),\n",
       " PosixPath('/tmp/ramdisk/handwritten/Validation/C'),\n",
       " PosixPath('/tmp/ramdisk/handwritten/Validation/B'),\n",
       " PosixPath('/tmp/ramdisk/handwritten/Validation/A'),\n",
       " PosixPath('/tmp/ramdisk/handwritten/Validation/8'),\n",
       " PosixPath('/tmp/ramdisk/handwritten/Validation/7'),\n",
       " PosixPath('/tmp/ramdisk/handwritten/Validation/6'),\n",
       " PosixPath('/tmp/ramdisk/handwritten/Validation/5'),\n",
       " PosixPath('/tmp/ramdisk/handwritten/Validation/4'),\n",
       " PosixPath('/tmp/ramdisk/handwritten/Validation/3'),\n",
       " PosixPath('/tmp/ramdisk/handwritten/Validation/2'),\n",
       " PosixPath('/tmp/ramdisk/handwritten/Validation/1'),\n",
       " PosixPath('/tmp/ramdisk/handwritten/Validation/0')]"
      ]
     },
     "execution_count": 8,
     "metadata": {},
     "output_type": "execute_result"
    }
   ],
   "source": [
    "path_validation.ls()"
   ]
  }
 ],
 "metadata": {
  "kernelspec": {
   "display_name": "Python 3",
   "language": "python",
   "name": "python3"
  },
  "language_info": {
   "codemirror_mode": {
    "name": "ipython",
    "version": 3
   },
   "file_extension": ".py",
   "mimetype": "text/x-python",
   "name": "python",
   "nbconvert_exporter": "python",
   "pygments_lexer": "ipython3",
   "version": "3.7.0"
  }
 },
 "nbformat": 4,
 "nbformat_minor": 2
}
