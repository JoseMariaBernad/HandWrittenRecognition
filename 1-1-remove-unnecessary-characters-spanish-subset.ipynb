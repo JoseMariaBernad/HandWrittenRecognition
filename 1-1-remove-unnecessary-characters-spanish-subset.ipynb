{
 "cells": [
  {
   "cell_type": "code",
   "execution_count": 1,
   "metadata": {},
   "outputs": [],
   "source": [
    "%reload_ext autoreload\n",
    "%autoreload 2\n",
    "%matplotlib inline\n",
    "\n",
    "from fastai import *\n",
    "from fastai.vision import *\n",
    "\n",
    "#path = Path(Config.get_key('data_path')).expanduser()/'handwritten'\n",
    "# /mnt/handwritten is a path specific to azure datascience machine. If it does not work, uncomment the line above\n",
    "# and comment line below\n",
    "path = Path('/mnt/ramdisk/handwritten')\n",
    "permanent_path = Path(Config.get_key('data_path')).expanduser()/'handwritten'"
   ]
  },
  {
   "cell_type": "code",
   "execution_count": 2,
   "metadata": {},
   "outputs": [
    {
     "data": {
      "text/plain": [
       "[PosixPath('/mnt/ramdisk/handwritten/Validation'),\n",
       " PosixPath('/mnt/ramdisk/handwritten/Train')]"
      ]
     },
     "execution_count": 2,
     "metadata": {},
     "output_type": "execute_result"
    }
   ],
   "source": [
    "path.ls()"
   ]
  },
  {
   "cell_type": "code",
   "execution_count": 7,
   "metadata": {},
   "outputs": [
    {
     "data": {
      "text/plain": [
       "[PosixPath('/mnt/ramdisk/handwritten/Train/X'),\n",
       " PosixPath('/mnt/ramdisk/handwritten/Train/T'),\n",
       " PosixPath('/mnt/ramdisk/handwritten/Train/R'),\n",
       " PosixPath('/mnt/ramdisk/handwritten/Train/H'),\n",
       " PosixPath('/mnt/ramdisk/handwritten/Train/G'),\n",
       " PosixPath('/mnt/ramdisk/handwritten/Train/F'),\n",
       " PosixPath('/mnt/ramdisk/handwritten/Train/E'),\n",
       " PosixPath('/mnt/ramdisk/handwritten/Train/D'),\n",
       " PosixPath('/mnt/ramdisk/handwritten/Train/C'),\n",
       " PosixPath('/mnt/ramdisk/handwritten/Train/B'),\n",
       " PosixPath('/mnt/ramdisk/handwritten/Train/A'),\n",
       " PosixPath('/mnt/ramdisk/handwritten/Train/8'),\n",
       " PosixPath('/mnt/ramdisk/handwritten/Train/7'),\n",
       " PosixPath('/mnt/ramdisk/handwritten/Train/6'),\n",
       " PosixPath('/mnt/ramdisk/handwritten/Train/5'),\n",
       " PosixPath('/mnt/ramdisk/handwritten/Train/4'),\n",
       " PosixPath('/mnt/ramdisk/handwritten/Train/3'),\n",
       " PosixPath('/mnt/ramdisk/handwritten/Train/2'),\n",
       " PosixPath('/mnt/ramdisk/handwritten/Train/1'),\n",
       " PosixPath('/mnt/ramdisk/handwritten/Train/0')]"
      ]
     },
     "execution_count": 7,
     "metadata": {},
     "output_type": "execute_result"
    }
   ],
   "source": [
    "path_train = path/'Train'\n",
    "path_train.ls()"
   ]
  },
  {
   "cell_type": "code",
   "execution_count": 4,
   "metadata": {},
   "outputs": [],
   "source": [
    "! rm -R {path/'Train/#'}\n",
    "! rm -R {path/'Train/$'}\n",
    "! rm -R {path/'Train/\\&'}\n",
    "! rm -R /mnt/ramdisk/handwritten/Train/@\n",
    "! rm -R {path/'Train/I'}\n",
    "! rm -R {path/'Train/J'}\n",
    "! rm -R {path/'Train/K'}\n",
    "! rm -R {path/'Train/L'}\n",
    "! rm -R {path/'Train/M'}\n",
    "! rm -R {path/'Train/N'}\n",
    "! rm -R {path/'Train/P'}\n",
    "! rm -R {path/'Train/Q'}\n",
    "! rm -R {path/'Train/S'}\n",
    "! rm -R {path/'Train/U'}\n",
    "! rm -R {path/'Train/V'}\n",
    "! rm -R {path/'Train/W'}\n",
    "! rm -R {path/'Train/Y'}\n",
    "! rm -R {path/'Train/Z'}\n",
    "! rm -R {path/'Train/9'}"
   ]
  },
  {
   "cell_type": "code",
   "execution_count": 8,
   "metadata": {},
   "outputs": [
    {
     "data": {
      "text/plain": [
       "[PosixPath('/mnt/ramdisk/handwritten/Validation/X'),\n",
       " PosixPath('/mnt/ramdisk/handwritten/Validation/T'),\n",
       " PosixPath('/mnt/ramdisk/handwritten/Validation/R'),\n",
       " PosixPath('/mnt/ramdisk/handwritten/Validation/H'),\n",
       " PosixPath('/mnt/ramdisk/handwritten/Validation/G'),\n",
       " PosixPath('/mnt/ramdisk/handwritten/Validation/F'),\n",
       " PosixPath('/mnt/ramdisk/handwritten/Validation/E'),\n",
       " PosixPath('/mnt/ramdisk/handwritten/Validation/D'),\n",
       " PosixPath('/mnt/ramdisk/handwritten/Validation/C'),\n",
       " PosixPath('/mnt/ramdisk/handwritten/Validation/B'),\n",
       " PosixPath('/mnt/ramdisk/handwritten/Validation/A'),\n",
       " PosixPath('/mnt/ramdisk/handwritten/Validation/8'),\n",
       " PosixPath('/mnt/ramdisk/handwritten/Validation/7'),\n",
       " PosixPath('/mnt/ramdisk/handwritten/Validation/6'),\n",
       " PosixPath('/mnt/ramdisk/handwritten/Validation/5'),\n",
       " PosixPath('/mnt/ramdisk/handwritten/Validation/4'),\n",
       " PosixPath('/mnt/ramdisk/handwritten/Validation/3'),\n",
       " PosixPath('/mnt/ramdisk/handwritten/Validation/2'),\n",
       " PosixPath('/mnt/ramdisk/handwritten/Validation/1'),\n",
       " PosixPath('/mnt/ramdisk/handwritten/Validation/0')]"
      ]
     },
     "execution_count": 8,
     "metadata": {},
     "output_type": "execute_result"
    }
   ],
   "source": [
    "path_validation = path/'Validation'\n",
    "path_validation.ls()"
   ]
  },
  {
   "cell_type": "code",
   "execution_count": 6,
   "metadata": {},
   "outputs": [],
   "source": [
    "! rm -R {path/'Validation/#'}\n",
    "! rm -R {path/'Validation/$'}\n",
    "! rm -R {path/'Validation/\\&'}\n",
    "! rm -R /mnt/ramdisk/handwritten/Validation/@\n",
    "! rm -R {path/'Validation/I'}\n",
    "! rm -R {path/'Validation/J'}\n",
    "! rm -R {path/'Validation/K'}\n",
    "! rm -R {path/'Validation/L'}\n",
    "! rm -R {path/'Validation/M'}\n",
    "! rm -R {path/'Validation/N'}\n",
    "! rm -R {path/'Validation/P'}\n",
    "! rm -R {path/'Validation/Q'}\n",
    "! rm -R {path/'Validation/S'}\n",
    "! rm -R {path/'Validation/U'}\n",
    "! rm -R {path/'Validation/V'}\n",
    "! rm -R {path/'Validation/W'}\n",
    "! rm -R {path/'Validation/Y'}\n",
    "! rm -R {path/'Validation/Z'}\n",
    "! rm -R {path/'Validation/9'}"
   ]
  },
  {
   "cell_type": "code",
   "execution_count": null,
   "metadata": {},
   "outputs": [],
   "source": []
  },
  {
   "cell_type": "code",
   "execution_count": null,
   "metadata": {},
   "outputs": [],
   "source": []
  }
 ],
 "metadata": {
  "kernelspec": {
   "display_name": "Python 3",
   "language": "python",
   "name": "python3"
  },
  "language_info": {
   "codemirror_mode": {
    "name": "ipython",
    "version": 3
   },
   "file_extension": ".py",
   "mimetype": "text/x-python",
   "name": "python",
   "nbconvert_exporter": "python",
   "pygments_lexer": "ipython3",
   "version": "3.7.0"
  }
 },
 "nbformat": 4,
 "nbformat_minor": 2
}
