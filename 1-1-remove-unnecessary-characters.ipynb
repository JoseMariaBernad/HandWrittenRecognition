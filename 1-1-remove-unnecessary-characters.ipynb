{
 "cells": [
  {
   "cell_type": "code",
   "execution_count": 1,
   "metadata": {},
   "outputs": [],
   "source": [
    "%reload_ext autoreload\n",
    "%autoreload 2\n",
    "%matplotlib inline\n",
    "\n",
    "from fastai import *\n",
    "from fastai.vision import *\n",
    "\n",
    "#path = Path(Config.get_key('data_path')).expanduser()/'handwritten'\n",
    "# /mnt/handwritten is a path specific to azure datascience machine. If it does not work, uncomment the line above\n",
    "# and comment line below\n",
    "path = Path('/mnt/ramdisk/handwritten')\n",
    "permanent_path = Path(Config.get_key('data_path')).expanduser()/'handwritten'"
   ]
  },
  {
   "cell_type": "code",
   "execution_count": 2,
   "metadata": {},
   "outputs": [
    {
     "data": {
      "text/plain": [
       "[PosixPath('/mnt/ramdisk/handwritten/Train'),\n",
       " PosixPath('/mnt/ramdisk/handwritten/Validation')]"
      ]
     },
     "execution_count": 2,
     "metadata": {},
     "output_type": "execute_result"
    }
   ],
   "source": [
    "path.ls()"
   ]
  },
  {
   "cell_type": "code",
   "execution_count": 7,
   "metadata": {},
   "outputs": [
    {
     "data": {
      "text/plain": [
       "[PosixPath('/mnt/ramdisk/handwritten/Train/M'),\n",
       " PosixPath('/mnt/ramdisk/handwritten/Train/W'),\n",
       " PosixPath('/mnt/ramdisk/handwritten/Train/P'),\n",
       " PosixPath('/mnt/ramdisk/handwritten/Train/5'),\n",
       " PosixPath('/mnt/ramdisk/handwritten/Train/Y'),\n",
       " PosixPath('/mnt/ramdisk/handwritten/Train/2'),\n",
       " PosixPath('/mnt/ramdisk/handwritten/Train/L'),\n",
       " PosixPath('/mnt/ramdisk/handwritten/Train/K'),\n",
       " PosixPath('/mnt/ramdisk/handwritten/Train/B'),\n",
       " PosixPath('/mnt/ramdisk/handwritten/Train/E'),\n",
       " PosixPath('/mnt/ramdisk/handwritten/Train/3'),\n",
       " PosixPath('/mnt/ramdisk/handwritten/Train/X'),\n",
       " PosixPath('/mnt/ramdisk/handwritten/Train/4'),\n",
       " PosixPath('/mnt/ramdisk/handwritten/Train/Q'),\n",
       " PosixPath('/mnt/ramdisk/handwritten/Train/V'),\n",
       " PosixPath('/mnt/ramdisk/handwritten/Train/D'),\n",
       " PosixPath('/mnt/ramdisk/handwritten/Train/C'),\n",
       " PosixPath('/mnt/ramdisk/handwritten/Train/J'),\n",
       " PosixPath('/mnt/ramdisk/handwritten/Train/H'),\n",
       " PosixPath('/mnt/ramdisk/handwritten/Train/F'),\n",
       " PosixPath('/mnt/ramdisk/handwritten/Train/A'),\n",
       " PosixPath('/mnt/ramdisk/handwritten/Train/S'),\n",
       " PosixPath('/mnt/ramdisk/handwritten/Train/T'),\n",
       " PosixPath('/mnt/ramdisk/handwritten/Train/8'),\n",
       " PosixPath('/mnt/ramdisk/handwritten/Train/1'),\n",
       " PosixPath('/mnt/ramdisk/handwritten/Train/Z'),\n",
       " PosixPath('/mnt/ramdisk/handwritten/Train/6'),\n",
       " PosixPath('/mnt/ramdisk/handwritten/Train/G'),\n",
       " PosixPath('/mnt/ramdisk/handwritten/Train/N'),\n",
       " PosixPath('/mnt/ramdisk/handwritten/Train/I'),\n",
       " PosixPath('/mnt/ramdisk/handwritten/Train/7'),\n",
       " PosixPath('/mnt/ramdisk/handwritten/Train/0'),\n",
       " PosixPath('/mnt/ramdisk/handwritten/Train/9'),\n",
       " PosixPath('/mnt/ramdisk/handwritten/Train/U'),\n",
       " PosixPath('/mnt/ramdisk/handwritten/Train/R')]"
      ]
     },
     "execution_count": 7,
     "metadata": {},
     "output_type": "execute_result"
    }
   ],
   "source": [
    "path_train = path/'Train'\n",
    "path_train.ls()"
   ]
  },
  {
   "cell_type": "code",
   "execution_count": 4,
   "metadata": {},
   "outputs": [],
   "source": [
    "! rm -R {path/'Train/#'}\n",
    "! rm -R {path/'Train/$'}\n",
    "! rm -R {path/'Train/\\&'}\n",
    "! rm -R /mnt/ramdisk/handwritten/Train/@"
   ]
  },
  {
   "cell_type": "code",
   "execution_count": 8,
   "metadata": {},
   "outputs": [
    {
     "data": {
      "text/plain": [
       "[PosixPath('/mnt/ramdisk/handwritten/Validation/M'),\n",
       " PosixPath('/mnt/ramdisk/handwritten/Validation/9'),\n",
       " PosixPath('/mnt/ramdisk/handwritten/Validation/8'),\n",
       " PosixPath('/mnt/ramdisk/handwritten/Validation/7'),\n",
       " PosixPath('/mnt/ramdisk/handwritten/Validation/6'),\n",
       " PosixPath('/mnt/ramdisk/handwritten/Validation/5'),\n",
       " PosixPath('/mnt/ramdisk/handwritten/Validation/4'),\n",
       " PosixPath('/mnt/ramdisk/handwritten/Validation/3'),\n",
       " PosixPath('/mnt/ramdisk/handwritten/Validation/2'),\n",
       " PosixPath('/mnt/ramdisk/handwritten/Validation/1'),\n",
       " PosixPath('/mnt/ramdisk/handwritten/Validation/0'),\n",
       " PosixPath('/mnt/ramdisk/handwritten/Validation/W'),\n",
       " PosixPath('/mnt/ramdisk/handwritten/Validation/P'),\n",
       " PosixPath('/mnt/ramdisk/handwritten/Validation/Y'),\n",
       " PosixPath('/mnt/ramdisk/handwritten/Validation/L'),\n",
       " PosixPath('/mnt/ramdisk/handwritten/Validation/K'),\n",
       " PosixPath('/mnt/ramdisk/handwritten/Validation/B'),\n",
       " PosixPath('/mnt/ramdisk/handwritten/Validation/E'),\n",
       " PosixPath('/mnt/ramdisk/handwritten/Validation/X'),\n",
       " PosixPath('/mnt/ramdisk/handwritten/Validation/Q'),\n",
       " PosixPath('/mnt/ramdisk/handwritten/Validation/V'),\n",
       " PosixPath('/mnt/ramdisk/handwritten/Validation/D'),\n",
       " PosixPath('/mnt/ramdisk/handwritten/Validation/C'),\n",
       " PosixPath('/mnt/ramdisk/handwritten/Validation/J'),\n",
       " PosixPath('/mnt/ramdisk/handwritten/Validation/H'),\n",
       " PosixPath('/mnt/ramdisk/handwritten/Validation/F'),\n",
       " PosixPath('/mnt/ramdisk/handwritten/Validation/A'),\n",
       " PosixPath('/mnt/ramdisk/handwritten/Validation/S'),\n",
       " PosixPath('/mnt/ramdisk/handwritten/Validation/T'),\n",
       " PosixPath('/mnt/ramdisk/handwritten/Validation/Z'),\n",
       " PosixPath('/mnt/ramdisk/handwritten/Validation/G'),\n",
       " PosixPath('/mnt/ramdisk/handwritten/Validation/N'),\n",
       " PosixPath('/mnt/ramdisk/handwritten/Validation/I'),\n",
       " PosixPath('/mnt/ramdisk/handwritten/Validation/U'),\n",
       " PosixPath('/mnt/ramdisk/handwritten/Validation/R')]"
      ]
     },
     "execution_count": 8,
     "metadata": {},
     "output_type": "execute_result"
    }
   ],
   "source": [
    "path_validation = path/'Validation'\n",
    "path_validation.ls()"
   ]
  },
  {
   "cell_type": "code",
   "execution_count": 6,
   "metadata": {},
   "outputs": [],
   "source": [
    "! rm -R {path/'Validation/#'}\n",
    "! rm -R {path/'Validation/$'}\n",
    "! rm -R {path/'Validation/\\&'}\n",
    "! rm -R /mnt/ramdisk/handwritten/Validation/@"
   ]
  },
  {
   "cell_type": "code",
   "execution_count": null,
   "metadata": {},
   "outputs": [],
   "source": []
  },
  {
   "cell_type": "code",
   "execution_count": null,
   "metadata": {},
   "outputs": [],
   "source": []
  }
 ],
 "metadata": {
  "kernelspec": {
   "display_name": "Python 3.6 - AzureML",
   "language": "python",
   "name": "python3-azureml"
  },
  "language_info": {
   "codemirror_mode": {
    "name": "ipython",
    "version": 3
   },
   "file_extension": ".py",
   "mimetype": "text/x-python",
   "name": "python",
   "nbconvert_exporter": "python",
   "pygments_lexer": "ipython3",
   "version": "3.6.6"
  }
 },
 "nbformat": 4,
 "nbformat_minor": 2
}
