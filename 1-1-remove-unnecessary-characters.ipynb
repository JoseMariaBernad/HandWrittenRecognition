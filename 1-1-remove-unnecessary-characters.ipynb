{
 "cells": [
  {
   "cell_type": "code",
   "execution_count": 1,
   "metadata": {},
   "outputs": [],
   "source": [
    "%reload_ext autoreload\n",
    "%autoreload 2\n",
    "%matplotlib inline\n",
    "\n",
    "from fastai import *\n",
    "from fastai.vision import *\n",
    "\n",
    "#path = Path(Config.get_key('data_path')).expanduser()/'handwritten'\n",
    "# /mnt/handwritten is a path specific to azure datascience machine. If it does not work, uncomment the line above\n",
    "# and comment line below\n",
    "path = Path('/mnt/ramdisk/handwritten')\n",
    "permanent_path = Path(Config.get_key('data_path')).expanduser()/'handwritten'"
   ]
  },
  {
   "cell_type": "code",
   "execution_count": 2,
   "metadata": {},
   "outputs": [
    {
     "data": {
      "text/plain": [
       "[PosixPath('/mnt/ramdisk/handwritten/Validation'),\n",
       " PosixPath('/mnt/ramdisk/handwritten/Train')]"
      ]
     },
     "execution_count": 2,
     "metadata": {},
     "output_type": "execute_result"
    }
   ],
   "source": [
    "path.ls()"
   ]
  },
  {
   "cell_type": "code",
   "execution_count": 21,
   "metadata": {},
   "outputs": [
    {
     "data": {
      "text/plain": [
       "[PosixPath('/mnt/ramdisk/handwritten/Train/NOTHING'),\n",
       " PosixPath('/mnt/ramdisk/handwritten/Train/Z'),\n",
       " PosixPath('/mnt/ramdisk/handwritten/Train/Y'),\n",
       " PosixPath('/mnt/ramdisk/handwritten/Train/X'),\n",
       " PosixPath('/mnt/ramdisk/handwritten/Train/W'),\n",
       " PosixPath('/mnt/ramdisk/handwritten/Train/V'),\n",
       " PosixPath('/mnt/ramdisk/handwritten/Train/U'),\n",
       " PosixPath('/mnt/ramdisk/handwritten/Train/T'),\n",
       " PosixPath('/mnt/ramdisk/handwritten/Train/S'),\n",
       " PosixPath('/mnt/ramdisk/handwritten/Train/R'),\n",
       " PosixPath('/mnt/ramdisk/handwritten/Train/Q'),\n",
       " PosixPath('/mnt/ramdisk/handwritten/Train/P'),\n",
       " PosixPath('/mnt/ramdisk/handwritten/Train/N'),\n",
       " PosixPath('/mnt/ramdisk/handwritten/Train/M'),\n",
       " PosixPath('/mnt/ramdisk/handwritten/Train/L'),\n",
       " PosixPath('/mnt/ramdisk/handwritten/Train/K'),\n",
       " PosixPath('/mnt/ramdisk/handwritten/Train/J'),\n",
       " PosixPath('/mnt/ramdisk/handwritten/Train/I'),\n",
       " PosixPath('/mnt/ramdisk/handwritten/Train/H'),\n",
       " PosixPath('/mnt/ramdisk/handwritten/Train/G'),\n",
       " PosixPath('/mnt/ramdisk/handwritten/Train/F'),\n",
       " PosixPath('/mnt/ramdisk/handwritten/Train/E'),\n",
       " PosixPath('/mnt/ramdisk/handwritten/Train/D'),\n",
       " PosixPath('/mnt/ramdisk/handwritten/Train/C'),\n",
       " PosixPath('/mnt/ramdisk/handwritten/Train/B'),\n",
       " PosixPath('/mnt/ramdisk/handwritten/Train/A'),\n",
       " PosixPath('/mnt/ramdisk/handwritten/Train/9'),\n",
       " PosixPath('/mnt/ramdisk/handwritten/Train/8'),\n",
       " PosixPath('/mnt/ramdisk/handwritten/Train/7'),\n",
       " PosixPath('/mnt/ramdisk/handwritten/Train/6'),\n",
       " PosixPath('/mnt/ramdisk/handwritten/Train/5'),\n",
       " PosixPath('/mnt/ramdisk/handwritten/Train/4'),\n",
       " PosixPath('/mnt/ramdisk/handwritten/Train/3'),\n",
       " PosixPath('/mnt/ramdisk/handwritten/Train/2'),\n",
       " PosixPath('/mnt/ramdisk/handwritten/Train/1'),\n",
       " PosixPath('/mnt/ramdisk/handwritten/Train/0')]"
      ]
     },
     "execution_count": 21,
     "metadata": {},
     "output_type": "execute_result"
    }
   ],
   "source": [
    "path_train = path/'Train'\n",
    "path_train.ls()"
   ]
  },
  {
   "cell_type": "code",
   "execution_count": 20,
   "metadata": {},
   "outputs": [
    {
     "name": "stdout",
     "output_type": "stream",
     "text": [
      "mkdir: cannot create directory ‘/mnt/ramdisk/handwritten/Train/NOTHING’: File exists\n",
      "mv: cannot stat '/mnt/ramdisk/handwritten/Train/#/*': No such file or directory\n",
      "rmdir: failed to remove '/mnt/ramdisk/handwritten/Train/#': No such file or directory\n",
      "mv: cannot stat '/mnt/ramdisk/handwritten/Train/$/*': No such file or directory\n",
      "rmdir: failed to remove '/mnt/ramdisk/handwritten/Train/$': No such file or directory\n",
      "mv: cannot stat '/mnt/ramdisk/handwritten/Train/&/*': No such file or directory\n",
      "rmdir: failed to remove '/mnt/ramdisk/handwritten/Train/&': No such file or directory\n"
     ]
    },
    {
     "data": {
      "text/plain": [
       "[PosixPath('/mnt/ramdisk/handwritten/Train/NOTHING/___4_7767080.png'),\n",
       " PosixPath('/mnt/ramdisk/handwritten/Train/NOTHING/___4_3480720.png'),\n",
       " PosixPath('/mnt/ramdisk/handwritten/Train/NOTHING/___3_3419739.png'),\n",
       " PosixPath('/mnt/ramdisk/handwritten/Train/NOTHING/___3_2220935.png'),\n",
       " PosixPath('/mnt/ramdisk/handwritten/Train/NOTHING/___2_7171966.png'),\n",
       " PosixPath('/mnt/ramdisk/handwritten/Train/NOTHING/___2_180518.png'),\n",
       " PosixPath('/mnt/ramdisk/handwritten/Train/NOTHING/___1_8467948.png'),\n",
       " PosixPath('/mnt/ramdisk/handwritten/Train/NOTHING/___1_3707877.png'),\n",
       " PosixPath('/mnt/ramdisk/handwritten/Train/NOTHING/___0_3481265.png'),\n",
       " PosixPath('/mnt/ramdisk/handwritten/Train/NOTHING/___0_2818202.png'),\n",
       " PosixPath('/mnt/ramdisk/handwritten/Train/NOTHING/__8_989709.png'),\n",
       " PosixPath('/mnt/ramdisk/handwritten/Train/NOTHING/__8_965683.png'),\n",
       " PosixPath('/mnt/ramdisk/handwritten/Train/NOTHING/__8_9511102.png'),\n",
       " PosixPath('/mnt/ramdisk/handwritten/Train/NOTHING/__8_9460832.png'),\n",
       " PosixPath('/mnt/ramdisk/handwritten/Train/NOTHING/__8_9451733.png'),\n",
       " PosixPath('/mnt/ramdisk/handwritten/Train/NOTHING/__8_9427814.png'),\n",
       " PosixPath('/mnt/ramdisk/handwritten/Train/NOTHING/__8_9422586.png'),\n",
       " PosixPath('/mnt/ramdisk/handwritten/Train/NOTHING/__8_9390837.png'),\n",
       " PosixPath('/mnt/ramdisk/handwritten/Train/NOTHING/__8_9389422.png'),\n",
       " PosixPath('/mnt/ramdisk/handwritten/Train/NOTHING/__8_9331752.png'),\n",
       " PosixPath('/mnt/ramdisk/handwritten/Train/NOTHING/__9_96768.png'),\n",
       " PosixPath('/mnt/ramdisk/handwritten/Train/NOTHING/__9_962315.png'),\n",
       " PosixPath('/mnt/ramdisk/handwritten/Train/NOTHING/__9_947399.png'),\n",
       " PosixPath('/mnt/ramdisk/handwritten/Train/NOTHING/__9_945916.png'),\n",
       " PosixPath('/mnt/ramdisk/handwritten/Train/NOTHING/__9_919800.png'),\n",
       " PosixPath('/mnt/ramdisk/handwritten/Train/NOTHING/__9_889032.png'),\n",
       " PosixPath('/mnt/ramdisk/handwritten/Train/NOTHING/__9_860182.png'),\n",
       " PosixPath('/mnt/ramdisk/handwritten/Train/NOTHING/__9_843824.png'),\n",
       " PosixPath('/mnt/ramdisk/handwritten/Train/NOTHING/__9_834027.png'),\n",
       " PosixPath('/mnt/ramdisk/handwritten/Train/NOTHING/__9_775340.png'),\n",
       " PosixPath('/mnt/ramdisk/handwritten/Train/NOTHING/__9_82670.png'),\n",
       " PosixPath('/mnt/ramdisk/handwritten/Train/NOTHING/__9_76570.png'),\n",
       " PosixPath('/mnt/ramdisk/handwritten/Train/NOTHING/__9_72504.png'),\n",
       " PosixPath('/mnt/ramdisk/handwritten/Train/NOTHING/__9_700145.png'),\n",
       " PosixPath('/mnt/ramdisk/handwritten/Train/NOTHING/__9_694105.png'),\n",
       " PosixPath('/mnt/ramdisk/handwritten/Train/NOTHING/__9_685007.png'),\n",
       " PosixPath('/mnt/ramdisk/handwritten/Train/NOTHING/__9_684280.png'),\n",
       " PosixPath('/mnt/ramdisk/handwritten/Train/NOTHING/__9_640091.png'),\n",
       " PosixPath('/mnt/ramdisk/handwritten/Train/NOTHING/__9_637179.png'),\n",
       " PosixPath('/mnt/ramdisk/handwritten/Train/NOTHING/__9_589820.png')]"
      ]
     },
     "execution_count": 20,
     "metadata": {},
     "output_type": "execute_result"
    }
   ],
   "source": [
    "! mkdir {path/'Train/NOTHING'}\n",
    "! mv {path/'Train/#/*'} {path/'Train/NOTHING'}\n",
    "! rmdir {path/'Train/#'}\n",
    "! mv {path/'Train/$/*'} {path/'Train/NOTHING'}\n",
    "! rmdir {path/'Train/$'}\n",
    "! mv {path/'Train/\\&/*'} {path/'Train/NOTHING'}\n",
    "! rmdir {path/'Train/\\&'}\n",
    "! mv {path/'Train/@/*'} {path/'Train/NOTHING'}\n",
    "! rmdir {path/'Train/@'}\n",
    "path_train = path/'Train/NOTHING'\n",
    "path_train.ls()"
   ]
  },
  {
   "cell_type": "code",
   "execution_count": 24,
   "metadata": {},
   "outputs": [
    {
     "data": {
      "text/plain": [
       "[PosixPath('/mnt/ramdisk/handwritten/Validation/NOTHING'),\n",
       " PosixPath('/mnt/ramdisk/handwritten/Validation/Z'),\n",
       " PosixPath('/mnt/ramdisk/handwritten/Validation/Y'),\n",
       " PosixPath('/mnt/ramdisk/handwritten/Validation/X'),\n",
       " PosixPath('/mnt/ramdisk/handwritten/Validation/W'),\n",
       " PosixPath('/mnt/ramdisk/handwritten/Validation/V'),\n",
       " PosixPath('/mnt/ramdisk/handwritten/Validation/U'),\n",
       " PosixPath('/mnt/ramdisk/handwritten/Validation/T'),\n",
       " PosixPath('/mnt/ramdisk/handwritten/Validation/S'),\n",
       " PosixPath('/mnt/ramdisk/handwritten/Validation/R'),\n",
       " PosixPath('/mnt/ramdisk/handwritten/Validation/Q'),\n",
       " PosixPath('/mnt/ramdisk/handwritten/Validation/P'),\n",
       " PosixPath('/mnt/ramdisk/handwritten/Validation/N'),\n",
       " PosixPath('/mnt/ramdisk/handwritten/Validation/M'),\n",
       " PosixPath('/mnt/ramdisk/handwritten/Validation/L'),\n",
       " PosixPath('/mnt/ramdisk/handwritten/Validation/K'),\n",
       " PosixPath('/mnt/ramdisk/handwritten/Validation/J'),\n",
       " PosixPath('/mnt/ramdisk/handwritten/Validation/I'),\n",
       " PosixPath('/mnt/ramdisk/handwritten/Validation/H'),\n",
       " PosixPath('/mnt/ramdisk/handwritten/Validation/G'),\n",
       " PosixPath('/mnt/ramdisk/handwritten/Validation/F'),\n",
       " PosixPath('/mnt/ramdisk/handwritten/Validation/E'),\n",
       " PosixPath('/mnt/ramdisk/handwritten/Validation/D'),\n",
       " PosixPath('/mnt/ramdisk/handwritten/Validation/C'),\n",
       " PosixPath('/mnt/ramdisk/handwritten/Validation/B'),\n",
       " PosixPath('/mnt/ramdisk/handwritten/Validation/A'),\n",
       " PosixPath('/mnt/ramdisk/handwritten/Validation/9'),\n",
       " PosixPath('/mnt/ramdisk/handwritten/Validation/8'),\n",
       " PosixPath('/mnt/ramdisk/handwritten/Validation/7'),\n",
       " PosixPath('/mnt/ramdisk/handwritten/Validation/6'),\n",
       " PosixPath('/mnt/ramdisk/handwritten/Validation/5'),\n",
       " PosixPath('/mnt/ramdisk/handwritten/Validation/4'),\n",
       " PosixPath('/mnt/ramdisk/handwritten/Validation/3'),\n",
       " PosixPath('/mnt/ramdisk/handwritten/Validation/2'),\n",
       " PosixPath('/mnt/ramdisk/handwritten/Validation/1'),\n",
       " PosixPath('/mnt/ramdisk/handwritten/Validation/0')]"
      ]
     },
     "execution_count": 24,
     "metadata": {},
     "output_type": "execute_result"
    }
   ],
   "source": [
    "path_validation = path/'Validation'\n",
    "path_validation.ls()"
   ]
  },
  {
   "cell_type": "code",
   "execution_count": 23,
   "metadata": {},
   "outputs": [
    {
     "data": {
      "text/plain": [
       "[PosixPath('/mnt/ramdisk/handwritten/Validation/NOTHING/__0_585764.png'),\n",
       " PosixPath('/mnt/ramdisk/handwritten/Validation/NOTHING/__0_38222.png'),\n",
       " PosixPath('/mnt/ramdisk/handwritten/Validation/NOTHING/__0_326835.png'),\n",
       " PosixPath('/mnt/ramdisk/handwritten/Validation/NOTHING/__0_1751754.png'),\n",
       " PosixPath('/mnt/ramdisk/handwritten/Validation/NOTHING/__0_1394069.png'),\n",
       " PosixPath('/mnt/ramdisk/handwritten/Validation/NOTHING/__0_1218973.png'),\n",
       " PosixPath('/mnt/ramdisk/handwritten/Validation/NOTHING/__0_962200.png'),\n",
       " PosixPath('/mnt/ramdisk/handwritten/Validation/NOTHING/__0_944426.png'),\n",
       " PosixPath('/mnt/ramdisk/handwritten/Validation/NOTHING/__0_784023.png'),\n",
       " PosixPath('/mnt/ramdisk/handwritten/Validation/NOTHING/__0_487085.png'),\n",
       " PosixPath('/mnt/ramdisk/handwritten/Validation/NOTHING/__0_142135.png'),\n",
       " PosixPath('/mnt/ramdisk/handwritten/Validation/NOTHING/__0_121440.png')]"
      ]
     },
     "execution_count": 23,
     "metadata": {},
     "output_type": "execute_result"
    }
   ],
   "source": [
    "! mkdir {path/'Validation/NOTHING'}\n",
    "! mv {path/'Validation/#/*'} {path/'Validation/NOTHING'}\n",
    "! rmdir {path/'Validation/#'}\n",
    "! mv {path/'Validation/$/*'} {path/'Validation/NOTHING'}\n",
    "! rmdir {path/'Validation/$'}\n",
    "! mv {path/'Validation/\\&/*'} {path/'Validation/NOTHING'}\n",
    "! rmdir {path/'Validation/\\&'}\n",
    "! mv {path/'Validation/@/*'} {path/'Validation/NOTHING'}\n",
    "! rmdir {path/'Validation/@'}\n",
    "path_train = path/'Validation/NOTHING'\n",
    "path_train.ls()"
   ]
  },
  {
   "cell_type": "code",
   "execution_count": null,
   "metadata": {},
   "outputs": [],
   "source": []
  }
 ],
 "metadata": {
  "kernelspec": {
   "display_name": "Python 3",
   "language": "python",
   "name": "python3"
  },
  "language_info": {
   "codemirror_mode": {
    "name": "ipython",
    "version": 3
   },
   "file_extension": ".py",
   "mimetype": "text/x-python",
   "name": "python",
   "nbconvert_exporter": "python",
   "pygments_lexer": "ipython3",
   "version": "3.7.0"
  }
 },
 "nbformat": 4,
 "nbformat_minor": 2
}
